{
 "cells": [
  {
   "cell_type": "markdown",
   "metadata": {},
   "source": [
    "  ### FAKE NEWS DETECTION USING POLITIFACT AND SNOPES DATA\n",
    "   Alaa Abo Jouhain\n",
    "   B M Nafis Fuad\n",
    "   Md Safin Sarker"
   ]
  },
  {
   "cell_type": "markdown",
   "metadata": {},
   "source": [
    "## Fake News Detection\n",
    "The main objective of the project is to investigate different machine learning techniques for identifying and examining fake news in comparison to real news. The project involves evaluating multiple classification methods in order to determine the most effective model for detecting fake news.\n",
    "\n",
    "### Steps for detecting fake news:\n",
    "1. Data Collection: \n",
    "   Import the necessary libraries\n",
    "   There are two JSON files that make up the dataset for this project. The first file contains data sourced from the Politifact website, while the second file contains data sourced from the Snopes website. Both datasets consist of multiclassification labels.\n",
    "\n",
    "2. Exploring and Data visualization:\n",
    "    - Printing column name of each data sets and choosing most common columns like label,claim and doc.\n",
    "    - Merging two datasets into one data and finding the unique label using thresold function.\n",
    "    - Dataset of label field contains different attibutes like 'false', 'barely-true', 'half-true', 'mostly-true', 'pants-fire', 'true'.\n",
    "    - Figureout the news is fake or real. So by replacing 'barely-true','pants-fire' and 'half-true' as 'false' as well as 'mostly-true' as 'true' for binary classification\n",
    "    - Both 'claim' and 'doc' column contains text, so merging those columns as 'text' field for better way\n",
    "    - Representing the binary values for label field '0 for false' and '1 for true'\n",
    "\n",
    "3. Preprocessing & Cleaning dataset: \n",
    "       In order to facilitate pattern detection by a machine learning algorithm, the dataset needs to be preprocessed. The nltk library can be used to remove certain functionalities from the text and extract relevant information. Some common preprocessing steps include:\n",
    "\n",
    "     Tokenization: Breaking the text into individual words or tokens.\n",
    "     Stopword removal: Removing common words that do not contribute to the meaning of the text, such as \"the\", \"and\", and \"a\".\n",
    "     Stemming or Lemmatization: Reducing words to their base form, such as converting \"running\" to \"run\".\n",
    "     Removing punctuation and special characters: Getting rid of symbols that do not add meaning to the text.\n",
    "     Lowercasing: Converting all text to lowercase to ensure consistency.\n",
    "     By applying these preprocessing steps,\n",
    "\n",
    "4. Splitting the data into training and Testing parts. \n",
    " \n",
    "5. Feature extraction & Classification Models.\n",
    "    - To make the text dataset suitable for training in a machine learning model, it needs to be converted into numerical form through a process called vectorization. There are various techniques for feature extraction, including TF-IDF, bag of words, and pre-trained word embedding methods such as GloVe.\n",
    "    - Apply simple Machine learning Model and check the accuracy.\n",
    "    - Apply Deep Neural Network Classifier (LSTM, Bert) and make display all visualization using tensorboard.\n",
    "\n",
    "    \n",
    "6. Evaluating the models and Comparing between classifier models."
   ]
  },
  {
   "cell_type": "markdown",
   "metadata": {},
   "source": [
    "### Resources:\n",
    "1. https://medium.com/swlh/fake-news-detection-using-machine-learning-69ff9050351f\n",
    "2. https://researchtrend.net/ijet/pdf/A%20Comparison%20of%20Machine%20Learning%20Algorithms%20in%20Fake%20News%20Detection%20LOKESHKUMAR%20R.pdf\n",
    "3. http://colah.github.io/posts/2015-08-Understanding-LSTMs/\n",
    "4. https://www.tensorflow.org/text/guide/word_embeddings\n",
    "5. https://www.tensorflow.org/guide/keras/train_and_evaluate\n",
    "6. https://machinelearningmastery.com/display-deep-learning-model-training-history-in-keras/\n",
    "7. https://machinelearningmastery.com/tensorflow-tutorial-deep-learning-with-tf-keras/\n",
    "8. https://stavanger.instructure.com/courses/10010/files/1096892?module_item_id=179592\n",
    "9. https://medium.com/analytics-vidhya/fake-news-detector-cbc47b085d4\n",
    "10. https://www.analyticsvidhya.com/blog/2021/07/detecting-fake-news-with-natural-language-processing/\n",
    "11. https://www.machinelearningplus.com/nlp/gensim-tutorial/\n",
    "12. https://machinelearningmastery.com/how-to-stop-training-deep-neural-networks-at-the-right-time-using-early-stopping/ \n",
    "13. https://towardsdatascience.com/fake-news-classification-with-bert-afbeee601f41\n",
    "14. https://www.analyticsvidhya.com/blog/2022/03/fake-news-classification-using-deep-learning/#h2_8 "
   ]
  },
  {
   "cell_type": "markdown",
   "metadata": {},
   "source": [
    "### 1. Data Collection: \n",
    "- Import the necessary libraries."
   ]
  },
  {
   "cell_type": "code",
   "execution_count": 1,
   "metadata": {},
   "outputs": [],
   "source": [
    "import numpy as np\n",
    "import pandas as pd\n",
    "import seaborn as sns\n",
    "import regex as re\n",
    "import nltk\n",
    "import matplotlib.pyplot as plt\n",
    "from nltk.corpus import stopwords\n",
    "from nltk import ngrams\n",
    "from nltk.tokenize import word_tokenize\n",
    "from collections import Counter\n",
    "from nltk.stem import WordNetLemmatizer"
   ]
  },
  {
   "cell_type": "markdown",
   "metadata": {},
   "source": [
    "- Import the Dataset from two json files"
   ]
  },
  {
   "cell_type": "code",
   "execution_count": 2,
   "metadata": {},
   "outputs": [],
   "source": [
    "politifact_data = pd.read_json('C:/Users/alaaa/Downloads/fact_checks/fact_checks/politifact.json')\n",
    "snopes_data = pd.read_json('C:/Users/alaaa/Downloads/fact_checks/fact_checks/snopes.json')"
   ]
  },
  {
   "cell_type": "markdown",
   "metadata": {},
   "source": [
    "### 2. Exploring and Data visualization"
   ]
  },
  {
   "cell_type": "code",
   "execution_count": 3,
   "metadata": {},
   "outputs": [
    {
     "data": {
      "text/html": [
       "<div>\n",
       "<style scoped>\n",
       "    .dataframe tbody tr th:only-of-type {\n",
       "        vertical-align: middle;\n",
       "    }\n",
       "\n",
       "    .dataframe tbody tr th {\n",
       "        vertical-align: top;\n",
       "    }\n",
       "\n",
       "    .dataframe thead th {\n",
       "        text-align: right;\n",
       "    }\n",
       "</style>\n",
       "<table border=\"1\" class=\"dataframe\">\n",
       "  <thead>\n",
       "    <tr style=\"text-align: right;\">\n",
       "      <th></th>\n",
       "      <th>claim</th>\n",
       "      <th>doc</th>\n",
       "      <th>label</th>\n",
       "      <th>factchecker</th>\n",
       "      <th>published</th>\n",
       "      <th>speaker</th>\n",
       "      <th>date_stated</th>\n",
       "      <th>stated_in</th>\n",
       "      <th>url</th>\n",
       "      <th>topic</th>\n",
       "      <th>sources</th>\n",
       "      <th>summary</th>\n",
       "    </tr>\n",
       "  </thead>\n",
       "  <tbody>\n",
       "    <tr>\n",
       "      <th>0</th>\n",
       "      <td>There were no American flags at the first Demo...</td>\n",
       "      <td>In the race to the White House, who is the mos...</td>\n",
       "      <td>false</td>\n",
       "      <td>Ciara O'Rourke</td>\n",
       "      <td>2019-6-28</td>\n",
       "      <td>Viral image</td>\n",
       "      <td>2019-6-27</td>\n",
       "      <td>a post</td>\n",
       "      <td>https://www.politifact.com/factchecks/2019/jun...</td>\n",
       "      <td>[Debates, Patriotism, Facebook fact-checks, Vi...</td>\n",
       "      <td>[{'description': 'Facebookpost, June 27, 2019'...</td>\n",
       "      <td>None</td>\n",
       "    </tr>\n",
       "    <tr>\n",
       "      <th>1</th>\n",
       "      <td>Quotes Thomas Jefferson as saying that \"a gove...</td>\n",
       "      <td>A post that recently popped up on social media...</td>\n",
       "      <td>false</td>\n",
       "      <td>Samantha Putterman</td>\n",
       "      <td>2019-6-6</td>\n",
       "      <td>Facebook posts</td>\n",
       "      <td>2019-6-4</td>\n",
       "      <td>a Facebook post</td>\n",
       "      <td>https://www.politifact.com/factchecks/2019/jun...</td>\n",
       "      <td>[Fake news, Government Regulation, Facebook fa...</td>\n",
       "      <td>[{'description': 'Facebookpost, June 4, 2019',...</td>\n",
       "      <td>None</td>\n",
       "    </tr>\n",
       "  </tbody>\n",
       "</table>\n",
       "</div>"
      ],
      "text/plain": [
       "                                               claim  \\\n",
       "0  There were no American flags at the first Demo...   \n",
       "1  Quotes Thomas Jefferson as saying that \"a gove...   \n",
       "\n",
       "                                                 doc  label  \\\n",
       "0  In the race to the White House, who is the mos...  false   \n",
       "1  A post that recently popped up on social media...  false   \n",
       "\n",
       "          factchecker  published         speaker date_stated        stated_in  \\\n",
       "0      Ciara O'Rourke  2019-6-28     Viral image   2019-6-27           a post   \n",
       "1  Samantha Putterman   2019-6-6  Facebook posts    2019-6-4  a Facebook post   \n",
       "\n",
       "                                                 url  \\\n",
       "0  https://www.politifact.com/factchecks/2019/jun...   \n",
       "1  https://www.politifact.com/factchecks/2019/jun...   \n",
       "\n",
       "                                               topic  \\\n",
       "0  [Debates, Patriotism, Facebook fact-checks, Vi...   \n",
       "1  [Fake news, Government Regulation, Facebook fa...   \n",
       "\n",
       "                                             sources summary  \n",
       "0  [{'description': 'Facebookpost, June 27, 2019'...    None  \n",
       "1  [{'description': 'Facebookpost, June 4, 2019',...    None  "
      ]
     },
     "execution_count": 3,
     "metadata": {},
     "output_type": "execute_result"
    }
   ],
   "source": [
    "politifact_data.head(2)"
   ]
  },
  {
   "cell_type": "code",
   "execution_count": 4,
   "metadata": {},
   "outputs": [
    {
     "name": "stdout",
     "output_type": "stream",
     "text": [
      "Index(['claim', 'doc', 'label', 'factchecker', 'published', 'speaker',\n",
      "       'date_stated', 'stated_in', 'url', 'topic', 'sources', 'summary'],\n",
      "      dtype='object')\n"
     ]
    }
   ],
   "source": [
    "print(politifact_data.columns)"
   ]
  },
  {
   "cell_type": "code",
   "execution_count": 5,
   "metadata": {},
   "outputs": [
    {
     "data": {
      "text/html": [
       "<div>\n",
       "<style scoped>\n",
       "    .dataframe tbody tr th:only-of-type {\n",
       "        vertical-align: middle;\n",
       "    }\n",
       "\n",
       "    .dataframe tbody tr th {\n",
       "        vertical-align: top;\n",
       "    }\n",
       "\n",
       "    .dataframe thead th {\n",
       "        text-align: right;\n",
       "    }\n",
       "</style>\n",
       "<table border=\"1\" class=\"dataframe\">\n",
       "  <thead>\n",
       "    <tr style=\"text-align: right;\">\n",
       "      <th></th>\n",
       "      <th>label</th>\n",
       "      <th>claim</th>\n",
       "      <th>doc</th>\n",
       "      <th>factchecker</th>\n",
       "      <th>published</th>\n",
       "      <th>url</th>\n",
       "      <th>topic</th>\n",
       "      <th>sources</th>\n",
       "      <th>extra_description</th>\n",
       "    </tr>\n",
       "  </thead>\n",
       "  <tbody>\n",
       "    <tr>\n",
       "      <th>0</th>\n",
       "      <td>False</td>\n",
       "      <td>Storing a car battery on a concrete floor will...</td>\n",
       "      <td>Much of what makes a car go remains an arcane ...</td>\n",
       "      <td>Snopes Staff</td>\n",
       "      <td>2011-1-4</td>\n",
       "      <td>https://www.snopes.com/fact-check/battery-park/</td>\n",
       "      <td>[Automobiles, Techno File]</td>\n",
       "      <td>[{'description': 'Magliozzi, Tom and Ray. “Cli...</td>\n",
       "      <td>None</td>\n",
       "    </tr>\n",
       "    <tr>\n",
       "      <th>1</th>\n",
       "      <td>True</td>\n",
       "      <td>U.S. President Donald Trump tapped World Wrest...</td>\n",
       "      <td>In mid-April 2020, controversy consumed the Tr...</td>\n",
       "      <td>Bethania Palma</td>\n",
       "      <td>2020-4-16</td>\n",
       "      <td>https://www.snopes.com/fact-check/coronavirus-...</td>\n",
       "      <td>[Politics, COVID-19]</td>\n",
       "      <td>[{'description': 'McGeorge, Alistair.“Donald T...</td>\n",
       "      <td>None</td>\n",
       "    </tr>\n",
       "  </tbody>\n",
       "</table>\n",
       "</div>"
      ],
      "text/plain": [
       "   label                                              claim  \\\n",
       "0  False  Storing a car battery on a concrete floor will...   \n",
       "1   True  U.S. President Donald Trump tapped World Wrest...   \n",
       "\n",
       "                                                 doc     factchecker  \\\n",
       "0  Much of what makes a car go remains an arcane ...    Snopes Staff   \n",
       "1  In mid-April 2020, controversy consumed the Tr...  Bethania Palma   \n",
       "\n",
       "   published                                                url  \\\n",
       "0   2011-1-4    https://www.snopes.com/fact-check/battery-park/   \n",
       "1  2020-4-16  https://www.snopes.com/fact-check/coronavirus-...   \n",
       "\n",
       "                        topic  \\\n",
       "0  [Automobiles, Techno File]   \n",
       "1        [Politics, COVID-19]   \n",
       "\n",
       "                                             sources extra_description  \n",
       "0  [{'description': 'Magliozzi, Tom and Ray. “Cli...              None  \n",
       "1  [{'description': 'McGeorge, Alistair.“Donald T...              None  "
      ]
     },
     "execution_count": 5,
     "metadata": {},
     "output_type": "execute_result"
    }
   ],
   "source": [
    "snopes_data.head(2)"
   ]
  },
  {
   "cell_type": "markdown",
   "metadata": {},
   "source": [
    "- Feature selection"
   ]
  },
  {
   "cell_type": "code",
   "execution_count": 6,
   "metadata": {},
   "outputs": [
    {
     "name": "stdout",
     "output_type": "stream",
     "text": [
      "['claim' 'doc' 'factchecker' 'label' 'published' 'sources' 'topic' 'url']\n"
     ]
    }
   ],
   "source": [
    "# find the common columns between the dataframes\n",
    "common_cols = np.intersect1d(politifact_data.columns, snopes_data.columns)\n",
    "print(common_cols)"
   ]
  },
  {
   "cell_type": "code",
   "execution_count": 7,
   "metadata": {},
   "outputs": [],
   "source": [
    "# Taking only the necessary features from both datasets\n",
    "snopes_data_filtered = snopes_data[['claim', 'doc', 'label']].copy()\n",
    "politifact_data_filtered = politifact_data[['claim', 'doc', 'label']].copy()"
   ]
  },
  {
   "cell_type": "code",
   "execution_count": 8,
   "metadata": {},
   "outputs": [
    {
     "data": {
      "text/plain": [
       "array(['False', 'True', 'Outdated', 'Mostly False', 'Correct Attribution',\n",
       "       'Unproven', 'Mixture', 'Scam', 'Miscaptioned', 'Legend',\n",
       "       'Misattributed', 'Labeled Satire', 'Lost Legend', 'Mostly True',\n",
       "       'Research In Progress'], dtype=object)"
      ]
     },
     "execution_count": 8,
     "metadata": {},
     "output_type": "execute_result"
    }
   ],
   "source": [
    "#Finding the unique values of label from Snoper Filtered Data\n",
    "Snopes_Label = snopes_data_filtered.label.unique()\n",
    "Snopes_Label"
   ]
  },
  {
   "cell_type": "code",
   "execution_count": 9,
   "metadata": {},
   "outputs": [
    {
     "data": {
      "text/plain": [
       "array(['false', 'barely-true', 'half-true', 'mostly-true', 'pants-fire',\n",
       "       'true', 'full-flop', 'half-flip', 'no-flip'], dtype=object)"
      ]
     },
     "execution_count": 9,
     "metadata": {},
     "output_type": "execute_result"
    }
   ],
   "source": [
    "#Finding the unique values of label from Politifact Filtered Data\n",
    "Politifact_Label = politifact_data_filtered.label.unique()\n",
    "Politifact_Label"
   ]
  },
  {
   "cell_type": "markdown",
   "metadata": {},
   "source": [
    "- Checking NULL values"
   ]
  },
  {
   "cell_type": "code",
   "execution_count": 10,
   "metadata": {},
   "outputs": [
    {
     "name": "stdout",
     "output_type": "stream",
     "text": [
      "Count of null values in snopes data  claim    0\n",
      "doc      0\n",
      "label    0\n",
      "dtype: int64\n",
      "----------------------------------------------------------------------------------------------------\n",
      "Count of null values politifact data  claim    0\n",
      "doc      0\n",
      "label    0\n",
      "dtype: int64\n"
     ]
    }
   ],
   "source": [
    "print('Count of null values in snopes data ', snopes_data_filtered.isnull().sum())\n",
    "print('-'*100)\n",
    "print('Count of null values politifact data ',politifact_data_filtered.isnull().sum())"
   ]
  },
  {
   "cell_type": "markdown",
   "metadata": {},
   "source": [
    "- Visualizing label data from both Snopes and Politifact filtered Data"
   ]
  },
  {
   "cell_type": "code",
   "execution_count": 11,
   "metadata": {},
   "outputs": [
    {
     "data": {
      "text/plain": [
       "<AxesSubplot:xlabel='count', ylabel='label'>"
      ]
     },
     "execution_count": 11,
     "metadata": {},
     "output_type": "execute_result"
    },
    {
     "data": {
      "image/png": "[encoded data removed]",
      "text/plain": [
       "<Figure size 1080x595.44 with 1 Axes>"
      ]
     },
     "metadata": {},
     "output_type": "display_data"
    }
   ],
   "source": [
    "sns.set(rc={'figure.figsize':(15,8.27)})\n",
    "order = snopes_data_filtered['label'].value_counts().sort_values(ascending=False).index\n",
    "sns.countplot(y ='label', data = snopes_data_filtered, order=order)"
   ]
  },
  {
   "cell_type": "code",
   "execution_count": 12,
   "metadata": {},
   "outputs": [
    {
     "data": {
      "text/plain": [
       "<AxesSubplot:xlabel='count', ylabel='label'>"
      ]
     },
     "execution_count": 12,
     "metadata": {},
     "output_type": "execute_result"
    },
    {
     "data": {
      "image/png": "[encoded data removed]",
      "text/plain": [
       "<Figure size 1080x595.44 with 1 Axes>"
      ]
     },
     "metadata": {},
     "output_type": "display_data"
    }
   ],
   "source": [
    "sns.set(rc={'figure.figsize':(15,8.27)})\n",
    "order2 = politifact_data_filtered['label'].value_counts().sort_values(ascending=False).index\n",
    "sns.countplot(y ='label', data = politifact_data_filtered, order=order2)"
   ]
  },
  {
   "cell_type": "markdown",
   "metadata": {},
   "source": [
    "- Remove Unwanted Rows from Both Dataset"
   ]
  },
  {
   "cell_type": "code",
   "execution_count": 13,
   "metadata": {},
   "outputs": [
    {
     "name": "stdout",
     "output_type": "stream",
     "text": [
      "Snopes Label: ['False' 'True' 'Mostly False' 'Correct Attribution' 'Mostly True']\n",
      "Politifact Label: ['false' 'barely-true' 'half-true' 'mostly-true' 'pants-fire' 'true']\n"
     ]
    }
   ],
   "source": [
    "delValues = ['Lost Legend','Research In Progress', 'Miscaptioned','Misattributed','Legend', 'full-flop', 'half-flip', 'no-flip', 'Outdated', 'Unproven', 'Mixture', 'Scam', 'Labeled Satire']\n",
    "\n",
    "snopes_data_filtered = snopes_data_filtered[snopes_data_filtered.label.isin(delValues) == False]\n",
    "print('Snopes Label:',snopes_data_filtered.label.unique())\n",
    "\n",
    "politifact_data_filtered = politifact_data_filtered[politifact_data_filtered.label.isin(delValues) == False]\n",
    "print('Politifact Label:', politifact_data_filtered.label.unique())"
   ]
  },
  {
   "cell_type": "markdown",
   "metadata": {},
   "source": [
    "- Convert from multi labels to binary label(true, false) for each dataset"
   ]
  },
  {
   "cell_type": "code",
   "execution_count": 14,
   "metadata": {},
   "outputs": [],
   "source": [
    "def Binary_Convertion(data, Datalabels):  \n",
    "    FalseLabel = ['False', 'false',  'Mostly False',  'pants-fire']\n",
    "    TrueLabel = ['True', 'true', 'Correct Attribution', 'Mostly True', 'mostly-true', 'half-true', 'barely-true' ]\n",
    "    for label in Datalabels:\n",
    "        if label in FalseLabel:\n",
    "            data.replace(label, 'false', inplace=True)\n",
    "        if label in TrueLabel:\n",
    "            data.replace(label, 'true', inplace=True)"
   ]
  },
  {
   "cell_type": "code",
   "execution_count": 15,
   "metadata": {},
   "outputs": [],
   "source": [
    "# Converting both data sets to binary\n",
    "Snopes_Binary = snopes_data_filtered.copy()\n",
    "Binary_Convertion(Snopes_Binary, Snopes_Label)\n",
    "\n",
    "Politifact_Binary = politifact_data_filtered.copy()\n",
    "Binary_Convertion(Politifact_Binary, Politifact_Label)"
   ]
  },
  {
   "cell_type": "code",
   "execution_count": 16,
   "metadata": {},
   "outputs": [],
   "source": [
    "# Check values for each lables and shows the graph\n",
    "def LabelCount(data, title):\n",
    "    print(title)\n",
    "    print(data.label.value_counts())\n",
    "    counts = data['label'].value_counts()\n",
    "    fig1, ax1 = plt.subplots()\n",
    "    ax1.pie(counts, labels=counts.index, autopct='%1.1f%%', startangle=90)\n",
    "    ax1.axis('equal')\n",
    "    ax1.set_title(title)\n",
    "    plt.show()"
   ]
  },
  {
   "cell_type": "code",
   "execution_count": 17,
   "metadata": {},
   "outputs": [
    {
     "name": "stdout",
     "output_type": "stream",
     "text": [
      "Snopes Data\n",
      "false    2050\n",
      "true      703\n",
      "Name: label, dtype: int64\n"
     ]
    },
    {
     "data": {
      "image/png": "[encoded data removed]",
      "text/plain": [
       "<Figure size 1080x595.44 with 1 Axes>"
      ]
     },
     "metadata": {},
     "output_type": "display_data"
    }
   ],
   "source": [
    "LabelCount(Snopes_Binary, 'Snopes Data')"
   ]
  },
  {
   "cell_type": "code",
   "execution_count": 18,
   "metadata": {},
   "outputs": [
    {
     "name": "stdout",
     "output_type": "stream",
     "text": [
      "Politifact Data\n",
      "true     11917\n",
      "false     6217\n",
      "Name: label, dtype: int64\n"
     ]
    },
    {
     "data": {
      "image/png": "[encoded data removed]",
      "text/plain": [
       "<Figure size 1080x595.44 with 1 Axes>"
      ]
     },
     "metadata": {},
     "output_type": "display_data"
    }
   ],
   "source": [
    "LabelCount(Politifact_Binary, 'Politifact Data')"
   ]
  },
  {
   "cell_type": "markdown",
   "metadata": {},
   "source": [
    "- Merge Snopes and Politfact Datasets"
   ]
  },
  {
   "cell_type": "code",
   "execution_count": 19,
   "metadata": {},
   "outputs": [
    {
     "data": {
      "text/html": [
       "<div>\n",
       "<style scoped>\n",
       "    .dataframe tbody tr th:only-of-type {\n",
       "        vertical-align: middle;\n",
       "    }\n",
       "\n",
       "    .dataframe tbody tr th {\n",
       "        vertical-align: top;\n",
       "    }\n",
       "\n",
       "    .dataframe thead th {\n",
       "        text-align: right;\n",
       "    }\n",
       "</style>\n",
       "<table border=\"1\" class=\"dataframe\">\n",
       "  <thead>\n",
       "    <tr style=\"text-align: right;\">\n",
       "      <th></th>\n",
       "      <th>claim</th>\n",
       "      <th>doc</th>\n",
       "      <th>label</th>\n",
       "    </tr>\n",
       "  </thead>\n",
       "  <tbody>\n",
       "    <tr>\n",
       "      <th>0</th>\n",
       "      <td>There were no American flags at the first Demo...</td>\n",
       "      <td>In the race to the White House, who is the mos...</td>\n",
       "      <td>false</td>\n",
       "    </tr>\n",
       "    <tr>\n",
       "      <th>1</th>\n",
       "      <td>Quotes Thomas Jefferson as saying that \"a gove...</td>\n",
       "      <td>A post that recently popped up on social media...</td>\n",
       "      <td>false</td>\n",
       "    </tr>\n",
       "    <tr>\n",
       "      <th>2</th>\n",
       "      <td>Leaving @[4:0] as a Facebook comment can revea...</td>\n",
       "      <td>Privacy concerns abound on social media these ...</td>\n",
       "      <td>false</td>\n",
       "    </tr>\n",
       "    <tr>\n",
       "      <th>3</th>\n",
       "      <td>\"Disease-ridden\" migrants from parts of Africa...</td>\n",
       "      <td>Are Ebola-infected Congolese migrants streamin...</td>\n",
       "      <td>false</td>\n",
       "    </tr>\n",
       "    <tr>\n",
       "      <th>4</th>\n",
       "      <td>Says Islamic studies professor Tariq Ramadan s...</td>\n",
       "      <td>Tariq Ramadan, a professor of Islamic studies ...</td>\n",
       "      <td>false</td>\n",
       "    </tr>\n",
       "    <tr>\n",
       "      <th>...</th>\n",
       "      <td>...</td>\n",
       "      <td>...</td>\n",
       "      <td>...</td>\n",
       "    </tr>\n",
       "    <tr>\n",
       "      <th>20882</th>\n",
       "      <td>Giant pythons were discovered in a small creek...</td>\n",
       "      <td>A Facebook appearing to link to a genuine news...</td>\n",
       "      <td>false</td>\n",
       "    </tr>\n",
       "    <tr>\n",
       "      <th>20883</th>\n",
       "      <td>Posting a legal notice on your Facebook wall o...</td>\n",
       "      <td>Messages about protecting your copyright or p...</td>\n",
       "      <td>false</td>\n",
       "    </tr>\n",
       "    <tr>\n",
       "      <th>20884</th>\n",
       "      <td>White House Press Secretary Sean Spicer said P...</td>\n",
       "      <td>A few days after President Trump inadvertently...</td>\n",
       "      <td>false</td>\n",
       "    </tr>\n",
       "    <tr>\n",
       "      <th>20885</th>\n",
       "      <td>One of the winners who shared the $1.5 billion...</td>\n",
       "      <td>One of the multitude of news stories (exaggera...</td>\n",
       "      <td>false</td>\n",
       "    </tr>\n",
       "    <tr>\n",
       "      <th>20886</th>\n",
       "      <td>Acclaimed actor Morgan Freeman died in October...</td>\n",
       "      <td>On 5 October 2017, a falsestory announcing act...</td>\n",
       "      <td>false</td>\n",
       "    </tr>\n",
       "  </tbody>\n",
       "</table>\n",
       "<p>20887 rows × 3 columns</p>\n",
       "</div>"
      ],
      "text/plain": [
       "                                                   claim  \\\n",
       "0      There were no American flags at the first Demo...   \n",
       "1      Quotes Thomas Jefferson as saying that \"a gove...   \n",
       "2      Leaving @[4:0] as a Facebook comment can revea...   \n",
       "3      \"Disease-ridden\" migrants from parts of Africa...   \n",
       "4      Says Islamic studies professor Tariq Ramadan s...   \n",
       "...                                                  ...   \n",
       "20882  Giant pythons were discovered in a small creek...   \n",
       "20883  Posting a legal notice on your Facebook wall o...   \n",
       "20884  White House Press Secretary Sean Spicer said P...   \n",
       "20885  One of the winners who shared the $1.5 billion...   \n",
       "20886  Acclaimed actor Morgan Freeman died in October...   \n",
       "\n",
       "                                                     doc  label  \n",
       "0      In the race to the White House, who is the mos...  false  \n",
       "1      A post that recently popped up on social media...  false  \n",
       "2      Privacy concerns abound on social media these ...  false  \n",
       "3      Are Ebola-infected Congolese migrants streamin...  false  \n",
       "4      Tariq Ramadan, a professor of Islamic studies ...  false  \n",
       "...                                                  ...    ...  \n",
       "20882  A Facebook appearing to link to a genuine news...  false  \n",
       "20883   Messages about protecting your copyright or p...  false  \n",
       "20884  A few days after President Trump inadvertently...  false  \n",
       "20885  One of the multitude of news stories (exaggera...  false  \n",
       "20886  On 5 October 2017, a falsestory announcing act...  false  \n",
       "\n",
       "[20887 rows x 3 columns]"
      ]
     },
     "execution_count": 19,
     "metadata": {},
     "output_type": "execute_result"
    }
   ],
   "source": [
    "## Merging two dataframes\n",
    "Merged_DF = Politifact_Binary.merge(Snopes_Binary, how=\"outer\")\n",
    "Merged_DF"
   ]
  },
  {
   "cell_type": "markdown",
   "metadata": {},
   "source": [
    "- Feature Preprocessing on Merged Dataframe"
   ]
  },
  {
   "cell_type": "code",
   "execution_count": 20,
   "metadata": {},
   "outputs": [],
   "source": [
    "def FeaturePreprocssing(data):\n",
    "    data['label'].unique()\n",
    "    label_name = {'true' : 1 , 'false' : 0 }\n",
    "    data['label'] = data['label'].map(label_name)\n",
    "\n",
    "    # Concatenate claim + doc add delimiter in between\n",
    "    data['text'] = data['claim'] + \" // \" + data['doc']\n",
    "\n",
    "    # delete the claim and doc feature from the dataset\n",
    "    del data['claim']\n",
    "    del data['doc']"
   ]
  },
  {
   "cell_type": "code",
   "execution_count": 21,
   "metadata": {},
   "outputs": [
    {
     "data": {
      "text/html": [
       "<div>\n",
       "<style scoped>\n",
       "    .dataframe tbody tr th:only-of-type {\n",
       "        vertical-align: middle;\n",
       "    }\n",
       "\n",
       "    .dataframe tbody tr th {\n",
       "        vertical-align: top;\n",
       "    }\n",
       "\n",
       "    .dataframe thead th {\n",
       "        text-align: right;\n",
       "    }\n",
       "</style>\n",
       "<table border=\"1\" class=\"dataframe\">\n",
       "  <thead>\n",
       "    <tr style=\"text-align: right;\">\n",
       "      <th></th>\n",
       "      <th>label</th>\n",
       "      <th>text</th>\n",
       "    </tr>\n",
       "  </thead>\n",
       "  <tbody>\n",
       "    <tr>\n",
       "      <th>0</th>\n",
       "      <td>0</td>\n",
       "      <td>There were no American flags at the first Demo...</td>\n",
       "    </tr>\n",
       "    <tr>\n",
       "      <th>1</th>\n",
       "      <td>0</td>\n",
       "      <td>Quotes Thomas Jefferson as saying that \"a gove...</td>\n",
       "    </tr>\n",
       "    <tr>\n",
       "      <th>2</th>\n",
       "      <td>0</td>\n",
       "      <td>Leaving @[4:0] as a Facebook comment can revea...</td>\n",
       "    </tr>\n",
       "    <tr>\n",
       "      <th>3</th>\n",
       "      <td>0</td>\n",
       "      <td>\"Disease-ridden\" migrants from parts of Africa...</td>\n",
       "    </tr>\n",
       "    <tr>\n",
       "      <th>4</th>\n",
       "      <td>0</td>\n",
       "      <td>Says Islamic studies professor Tariq Ramadan s...</td>\n",
       "    </tr>\n",
       "  </tbody>\n",
       "</table>\n",
       "</div>"
      ],
      "text/plain": [
       "   label                                               text\n",
       "0      0  There were no American flags at the first Demo...\n",
       "1      0  Quotes Thomas Jefferson as saying that \"a gove...\n",
       "2      0  Leaving @[4:0] as a Facebook comment can revea...\n",
       "3      0  \"Disease-ridden\" migrants from parts of Africa...\n",
       "4      0  Says Islamic studies professor Tariq Ramadan s..."
      ]
     },
     "execution_count": 21,
     "metadata": {},
     "output_type": "execute_result"
    }
   ],
   "source": [
    "FeaturePreprocssing(Merged_DF)\n",
    "Merged_DF.head()"
   ]
  },
  {
   "cell_type": "code",
   "execution_count": 22,
   "metadata": {},
   "outputs": [
    {
     "name": "stdout",
     "output_type": "stream",
     "text": [
      "Merged DataFrame\n",
      "1    12620\n",
      "0     8267\n",
      "Name: label, dtype: int64\n"
     ]
    },
    {
     "data": {
      "image/png": "[encoded data removed]",
      "text/plain": [
       "<Figure size 1080x595.44 with 1 Axes>"
      ]
     },
     "metadata": {},
     "output_type": "display_data"
    }
   ],
   "source": [
    "LabelCount(Merged_DF, 'Merged DataFrame')"
   ]
  },
  {
   "cell_type": "markdown",
   "metadata": {},
   "source": [
    "### 3. Data Cleaning & Preprocessing"
   ]
  },
  {
   "cell_type": "code",
   "execution_count": 23,
   "metadata": {},
   "outputs": [
    {
     "name": "stderr",
     "output_type": "stream",
     "text": [
      "[nltk_data] Error loading stopwords: <urlopen error [Errno 11001]\n",
      "[nltk_data]     getaddrinfo failed>\n",
      "[nltk_data] Downloading package wordnet to\n",
      "[nltk_data]     C:\\Users\\alaaa\\AppData\\Roaming\\nltk_data...\n",
      "[nltk_data]   Package wordnet is already up-to-date!\n",
      "[nltk_data] Downloading package omw-1.4 to\n",
      "[nltk_data]     C:\\Users\\alaaa\\AppData\\Roaming\\nltk_data...\n",
      "[nltk_data]   Package omw-1.4 is already up-to-date!\n",
      "[nltk_data] Downloading package punkt to\n",
      "[nltk_data]     C:\\Users\\alaaa\\AppData\\Roaming\\nltk_data...\n",
      "[nltk_data]   Package punkt is already up-to-date!\n"
     ]
    }
   ],
   "source": [
    "nltk.download('stopwords')\n",
    "nltk.download('wordnet')\n",
    "nltk.download('omw-1.4')\n",
    "nltk.download('punkt')\n",
    "import re\n",
    "import nltk\n",
    "import string\n",
    "from nltk.tokenize import word_tokenize\n",
    "from nltk.corpus import stopwords\n",
    "from nltk.stem.porter import PorterStemmer\n",
    "from nltk.stem import WordNetLemmatizer"
   ]
  },
  {
   "cell_type": "markdown",
   "metadata": {},
   "source": [
    "- Remove punctuation, non alphabetic words and stopwords \n",
    "- Convert to lowercase\n",
    "- Make lemmitization to simplify the dataset"
   ]
  },
  {
   "cell_type": "code",
   "execution_count": 24,
   "metadata": {},
   "outputs": [],
   "source": [
    "def Preprocess_text(text):\n",
    "  \n",
    "    # Remove punctuation\n",
    "    text = text.translate(str.maketrans('', '', string.punctuation))\n",
    "    \n",
    "    #Remove Non Alphabetic words\n",
    "    r_number=re.sub('[^a-z]', ' ', text)\n",
    "    tripedspaces = re.sub('\\s+', ' ', r_number)\n",
    "    \n",
    "    # Convert to lowercase\n",
    "    text = tripedspaces.lower()\n",
    "    \n",
    "    # Remove stopwords\n",
    "    stop_words = set(stopwords.words('english'))\n",
    "    words = nltk.word_tokenize(text)\n",
    "    words = [word for word in words if word not in stop_words]\n",
    "    \n",
    "    # Lemmatize words\n",
    "    lemmatizer = WordNetLemmatizer()\n",
    "    words = [lemmatizer.lemmatize(word) for word in words]\n",
    "    \n",
    "    # Return preprocessed text as a string\n",
    "    return \" \".join(words)\n"
   ]
  },
  {
   "cell_type": "code",
   "execution_count": 25,
   "metadata": {},
   "outputs": [],
   "source": [
    "# Applies the preprocess_text function to a specified column of a pandas DataFrame\n",
    "def DF_preprocessing(df, colname):\n",
    "    df_processed = df.copy()\n",
    "    df_processed[colname] = df_processed[colname].apply(Preprocess_text)\n",
    "    return df_processed"
   ]
  },
  {
   "cell_type": "markdown",
   "metadata": {},
   "source": [
    "- Applying DF_preprocessing on Merged Dataset"
   ]
  },
  {
   "cell_type": "code",
   "execution_count": 26,
   "metadata": {},
   "outputs": [
    {
     "data": {
      "text/html": [
       "<div>\n",
       "<style scoped>\n",
       "    .dataframe tbody tr th:only-of-type {\n",
       "        vertical-align: middle;\n",
       "    }\n",
       "\n",
       "    .dataframe tbody tr th {\n",
       "        vertical-align: top;\n",
       "    }\n",
       "\n",
       "    .dataframe thead th {\n",
       "        text-align: right;\n",
       "    }\n",
       "</style>\n",
       "<table border=\"1\" class=\"dataframe\">\n",
       "  <thead>\n",
       "    <tr style=\"text-align: right;\">\n",
       "      <th></th>\n",
       "      <th>label</th>\n",
       "      <th>text</th>\n",
       "    </tr>\n",
       "  </thead>\n",
       "  <tbody>\n",
       "    <tr>\n",
       "      <th>0</th>\n",
       "      <td>0</td>\n",
       "      <td>merican flag first emocratic presidential deba...</td>\n",
       "    </tr>\n",
       "    <tr>\n",
       "      <th>1</th>\n",
       "      <td>0</td>\n",
       "      <td>uotes homas efferson saying government big eno...</td>\n",
       "    </tr>\n",
       "    <tr>\n",
       "      <th>2</th>\n",
       "      <td>0</td>\n",
       "      <td>eaving acebook comment reveal account hacked r...</td>\n",
       "    </tr>\n",
       "    <tr>\n",
       "      <th>3</th>\n",
       "      <td>0</td>\n",
       "      <td>iseaseridden migrant part frica bola dumped nt...</td>\n",
       "    </tr>\n",
       "    <tr>\n",
       "      <th>4</th>\n",
       "      <td>0</td>\n",
       "      <td>ays slamic study professor ariq amadan said us...</td>\n",
       "    </tr>\n",
       "    <tr>\n",
       "      <th>...</th>\n",
       "      <td>...</td>\n",
       "      <td>...</td>\n",
       "    </tr>\n",
       "    <tr>\n",
       "      <th>20882</th>\n",
       "      <td>0</td>\n",
       "      <td>iant python discovered small creek ndiana aceb...</td>\n",
       "    </tr>\n",
       "    <tr>\n",
       "      <th>20883</th>\n",
       "      <td>0</td>\n",
       "      <td>osting legal notice acebook wall nstagram feed...</td>\n",
       "    </tr>\n",
       "    <tr>\n",
       "      <th>20884</th>\n",
       "      <td>0</td>\n",
       "      <td>hite ouse res ecretary ean picer said resident...</td>\n",
       "    </tr>\n",
       "    <tr>\n",
       "      <th>20885</th>\n",
       "      <td>0</td>\n",
       "      <td>ne winner shared billion owerball jackpot succ...</td>\n",
       "    </tr>\n",
       "    <tr>\n",
       "      <th>20886</th>\n",
       "      <td>0</td>\n",
       "      <td>cclaimed actor organ reeman died ctober age n ...</td>\n",
       "    </tr>\n",
       "  </tbody>\n",
       "</table>\n",
       "<p>20887 rows × 2 columns</p>\n",
       "</div>"
      ],
      "text/plain": [
       "       label                                               text\n",
       "0          0  merican flag first emocratic presidential deba...\n",
       "1          0  uotes homas efferson saying government big eno...\n",
       "2          0  eaving acebook comment reveal account hacked r...\n",
       "3          0  iseaseridden migrant part frica bola dumped nt...\n",
       "4          0  ays slamic study professor ariq amadan said us...\n",
       "...      ...                                                ...\n",
       "20882      0  iant python discovered small creek ndiana aceb...\n",
       "20883      0  osting legal notice acebook wall nstagram feed...\n",
       "20884      0  hite ouse res ecretary ean picer said resident...\n",
       "20885      0  ne winner shared billion owerball jackpot succ...\n",
       "20886      0  cclaimed actor organ reeman died ctober age n ...\n",
       "\n",
       "[20887 rows x 2 columns]"
      ]
     },
     "execution_count": 26,
     "metadata": {},
     "output_type": "execute_result"
    }
   ],
   "source": [
    "Merged_DF_Processed = DF_preprocessing(Merged_DF, 'text')\n",
    "Merged_DF_Processed"
   ]
  },
  {
   "cell_type": "markdown",
   "metadata": {},
   "source": [
    "### 6. splitting data and Vectorization\n",
    "  Training data 80% and test data 20%.\n",
    "  Here We use TFidVictorization to convert text to numerical."
   ]
  },
  {
   "cell_type": "code",
   "execution_count": 61,
   "metadata": {},
   "outputs": [],
   "source": [
    "from sklearn.feature_extraction.text import TfidfVectorizer\n",
    "from sklearn.model_selection import train_test_split\n",
    "\n",
    "def spiltingdata_and_Vectorizar(data):\n",
    "    # Split the data into training and testing sets\n",
    "    X_train, X_test, y_train, y_test = train_test_split(data['text'], data['label'], train_size=0.8, random_state=42)\n",
    "\n",
    "    # Create a TfidfVectorizer instance with a maximum of 3000 features\n",
    "    tv = TfidfVectorizer(max_features=3000, lowercase=False)\n",
    "\n",
    "    # Fit and transform the training dataset\n",
    "    tv_train = tv.fit_transform(X_train).toarray()\n",
    "\n",
    "    # Transform the test dataset\n",
    "    tv_test = tv.transform(X_test).toarray()\n",
    "\n",
    "    # Return the transformed training dataset, transformed test dataset, training labels, and testing labels\n",
    "    return tv_train, tv_test, y_train, y_test"
   ]
  },
  {
   "cell_type": "markdown",
   "metadata": {},
   "source": [
    "### 7.Machine Learning Classification\n",
    "\n",
    "Here we apply Logistic Regression,Decission tree classifier,Random forest classifier"
   ]
  },
  {
   "cell_type": "code",
   "execution_count": 62,
   "metadata": {},
   "outputs": [],
   "source": [
    "from sklearn.linear_model import LogisticRegression\n",
    "from sklearn.ensemble import RandomForestClassifier\n",
    "from sklearn.naive_bayes import MultinomialNB\n",
    "from sklearn import metrics\n",
    "from sklearn.tree import DecisionTreeClassifier\n",
    "from sklearn import model_selection,svm\n",
    "from matplotlib import pyplot as plt\n",
    "from sklearn.metrics import accuracy_score, confusion_matrix, precision_score, recall_score, f1_score, classification_report\n"
   ]
  },
  {
   "cell_type": "code",
   "execution_count": 63,
   "metadata": {},
   "outputs": [],
   "source": [
    "def ML_Classifiers(X_train, X_test, y_train, y_test, model, print_result=True, confusion_matrix=True):\n",
    "\n",
    "    \n",
    "    # Define the models to use\n",
    "    models = {\n",
    "        'LR': LogisticRegression(random_state=0),\n",
    "        'RF': RandomForestClassifier(),\n",
    "        'DT': DecisionTreeClassifier(),\n",
    "        'SVM':svm.SVC(C=1.0, kernel='linear', degree=3, gamma='auto',  probability=True),\n",
    "    }\n",
    "    \n",
    "    # Fit the selected model to the data\n",
    "    selected_model = models[model]\n",
    "    selected_model.fit(X_train, y_train)\n",
    "    y_pred = selected_model.predict(X_test)\n",
    "    y_prob = selected_model.predict_proba(X_test)[:, 1]\n",
    "  \n",
    "    # Print the results (if applicable)\n",
    "    if print_result:\n",
    "        print(f\"Machine Learning Model: {selected_model.__class__.__name__}\")\n",
    "        print(\"*\"*200)\n",
    "    \n",
    "    return y_pred, y_prob\n"
   ]
  },
  {
   "cell_type": "code",
   "execution_count": 64,
   "metadata": {},
   "outputs": [],
   "source": [
    "def perforMance_score(y_predict, y_test, ModelName, dataname= 'Mergeddata', ShowReport=True, ConfusionMatrix=True):\n",
    "    \n",
    "    \n",
    "    Accuracy_Score = accuracy_score(y_test, y_predict)\n",
    "    Recall_Score = recall_score(y_test, y_predict)\n",
    "    \n",
    "    # Show performance report\n",
    "    if ShowReport:\n",
    "        print(\"Accuracy=\",Accuracy_Score,\"and Recall_Score= \", Recall_Score)\n",
    "        report = classification_report(y_test, y_predict)\n",
    "        print(\"Performance Report for:\", ModelName, \"on\", dataname, \"\\n\", report)\n",
    "    \n",
    "    # Show confusion matrix\n",
    "    if ConfusionMatrix:\n",
    "        conf_matrix = confusion_matrix(y_test, y_predict)\n",
    "        print(\"Confusion Matrix for:\", ModelName, \"on\", dataname, \"\\n\", conf_matrix)\n",
    "        c = ['false', 'true']\n",
    "        sns.heatmap(conf_matrix, annot=True, fmt = 'd', xticklabels=c,yticklabels=c)\n",
    "        plt.ylabel('True Value')\n",
    "        plt.xlabel('Predicted value')   \n",
    "        plt.title(ModelName+'Confusion Matrix for'+dataname) \n",
    "        \n",
    "    return Accuracy_Score, Recall_Score\n"
   ]
  },
  {
   "cell_type": "code",
   "execution_count": 65,
   "metadata": {},
   "outputs": [],
   "source": [
    "tv_train, tv_test, y_train, y_test = spiltingdata_and_Vectorizar(Merged_DF_Processed)"
   ]
  },
  {
   "cell_type": "markdown",
   "metadata": {},
   "source": [
    "#### Logistic Regression model and Evaluating the model "
   ]
  },
  {
   "cell_type": "code",
   "execution_count": 66,
   "metadata": {},
   "outputs": [
    {
     "name": "stdout",
     "output_type": "stream",
     "text": [
      "Machine Learning Model: LogisticRegression\n",
      "********************************************************************************************************************************************************************************************************\n",
      "Accuracy= 0.8113930110100527 and Recall_Score=  0.9289099526066351\n",
      "Performance Report for: LogisticRegression on Merged-Data \n",
      "               precision    recall  f1-score   support\n",
      "\n",
      "           0       0.85      0.63      0.72      1646\n",
      "           1       0.79      0.93      0.86      2532\n",
      "\n",
      "    accuracy                           0.81      4178\n",
      "   macro avg       0.82      0.78      0.79      4178\n",
      "weighted avg       0.82      0.81      0.80      4178\n",
      "\n",
      "Confusion Matrix for: LogisticRegression on Merged-Data \n",
      " [[1038  608]\n",
      " [ 180 2352]]\n"
     ]
    },
    {
     "data": {
      "image/png": "[encoded data removed]",
      "text/plain": [
       "<Figure size 1080x595.44 with 2 Axes>"
      ]
     },
     "metadata": {},
     "output_type": "display_data"
    }
   ],
   "source": [
    "#Logistic Regression\n",
    "Model_LR,P_LR = ML_Classifiers(tv_train, tv_test, y_train,y_test, model = 'LR')\n",
    "\n",
    "Accuracy=perforMance_score(Model_LR , y_test, ModelName='LogisticRegression', dataname = 'Merged-Data', ShowReport = True, ConfusionMatrix=True)"
   ]
  },
  {
   "cell_type": "markdown",
   "metadata": {},
   "source": [
    "#### Random Forest model and Evaluating the model "
   ]
  },
  {
   "cell_type": "code",
   "execution_count": 67,
   "metadata": {},
   "outputs": [
    {
     "name": "stdout",
     "output_type": "stream",
     "text": [
      "Machine Learning Model: RandomForestClassifier\n",
      "********************************************************************************************************************************************************************************************************\n",
      "Accuracy= 0.9392053614169459 and Recall_Score=  0.9447077409162717\n",
      "Performance Report for: Random Forest on Merged-Data \n",
      "               precision    recall  f1-score   support\n",
      "\n",
      "           0       0.92      0.93      0.92      1646\n",
      "           1       0.95      0.94      0.95      2532\n",
      "\n",
      "    accuracy                           0.94      4178\n",
      "   macro avg       0.94      0.94      0.94      4178\n",
      "weighted avg       0.94      0.94      0.94      4178\n",
      "\n",
      "Confusion Matrix for: Random Forest on Merged-Data \n",
      " [[1532  114]\n",
      " [ 140 2392]]\n"
     ]
    },
    {
     "data": {
      "image/png": "[encoded data removed]",
      "text/plain": [
       "<Figure size 1080x595.44 with 2 Axes>"
      ]
     },
     "metadata": {},
     "output_type": "display_data"
    }
   ],
   "source": [
    "\n",
    "Model_RF,P_RF = ML_Classifiers(tv_train, tv_test, y_train,y_test, model = 'RF')\n",
    "\n",
    "Accuracy_rf=perforMance_score(Model_RF , y_test, ModelName='Random Forest', dataname = 'Merged-Data', ShowReport = True, ConfusionMatrix=True)"
   ]
  },
  {
   "cell_type": "markdown",
   "metadata": {},
   "source": [
    "#### Decission tree model and Evaluating the model "
   ]
  },
  {
   "cell_type": "code",
   "execution_count": 68,
   "metadata": {},
   "outputs": [
    {
     "name": "stdout",
     "output_type": "stream",
     "text": [
      "Machine Learning Model: DecisionTreeClassifier\n",
      "********************************************************************************************************************************************************************************************************\n",
      "Accuracy= 0.8113930110100527 and Recall_Score=  0.9289099526066351\n",
      "Performance Report for: Decission Tree on Merged-Data \n",
      "               precision    recall  f1-score   support\n",
      "\n",
      "           0       0.85      0.63      0.72      1646\n",
      "           1       0.79      0.93      0.86      2532\n",
      "\n",
      "    accuracy                           0.81      4178\n",
      "   macro avg       0.82      0.78      0.79      4178\n",
      "weighted avg       0.82      0.81      0.80      4178\n",
      "\n",
      "Confusion Matrix for: Decission Tree on Merged-Data \n",
      " [[1038  608]\n",
      " [ 180 2352]]\n"
     ]
    },
    {
     "data": {
      "image/png": "[encoded data removed]",
      "text/plain": [
       "<Figure size 1080x595.44 with 2 Axes>"
      ]
     },
     "metadata": {},
     "output_type": "display_data"
    }
   ],
   "source": [
    "\n",
    "Model_DT,P_DT = ML_Classifiers(tv_train, tv_test, y_train,y_test, model = 'DT')\n",
    "\n",
    "Accuracy_DT=perforMance_score(Model_LR , y_test, ModelName='Decission Tree', dataname = 'Merged-Data', ShowReport = True, ConfusionMatrix=True)"
   ]
  },
  {
   "cell_type": "markdown",
   "metadata": {},
   "source": [
    "#### SVM model and Evaluating the model "
   ]
  },
  {
   "cell_type": "code",
   "execution_count": 35,
   "metadata": {},
   "outputs": [
    {
     "name": "stdout",
     "output_type": "stream",
     "text": [
      "Machine Learning Model: SVC\n",
      "********************************************************************************************************************************************************************************************************\n",
      "Accuracy= 0.8113930110100527 and Recall_Score=  0.9289099526066351\n",
      "Performance Report for: SVM on Merged-Data \n",
      "               precision    recall  f1-score   support\n",
      "\n",
      "           0       0.85      0.63      0.72      1646\n",
      "           1       0.79      0.93      0.86      2532\n",
      "\n",
      "    accuracy                           0.81      4178\n",
      "   macro avg       0.82      0.78      0.79      4178\n",
      "weighted avg       0.82      0.81      0.80      4178\n",
      "\n",
      "Confusion Matrix for: SVM on Merged-Data \n",
      " [[1038  608]\n",
      " [ 180 2352]]\n"
     ]
    },
    {
     "data": {
      "image/png": "[encoded data removed]",
      "text/plain": [
       "<Figure size 1080x595.44 with 2 Axes>"
      ]
     },
     "metadata": {},
     "output_type": "display_data"
    }
   ],
   "source": [
    "Model_SVM,P_SVM = ML_Classifiers(tv_train, tv_test, y_train,y_test, model = 'SVM')\n",
    "\n",
    "Accuracy_SVM=perforMance_score(Model_LR , y_test, ModelName='SVM', dataname = 'Merged-Data', ShowReport = True, ConfusionMatrix=True)"
   ]
  },
  {
   "cell_type": "markdown",
   "metadata": {},
   "source": [
    "### Machine learning classification problems are evaluated using ROC (Receiver Operating Characteristic) curves to compare various thresholds."
   ]
  },
  {
   "cell_type": "code",
   "execution_count": 36,
   "metadata": {},
   "outputs": [],
   "source": [
    "from sklearn.metrics import roc_auc_score, roc_curve\n",
    "\n",
    "auc_logistic_regression = roc_auc_score(y_test, P_LR)\n",
    "false_positive_rate_LR, true_positive_rate_LR, _ = roc_curve(y_test, P_LR)\n",
    "\n",
    "auc_decission_tree = roc_auc_score(y_test, P_DT)\n",
    "false_positive_rate_DT, true_positive_rate_DT, _ = roc_curve(y_test, P_DT)\n",
    "\n",
    "auc_random_forest = roc_auc_score(y_test, P_RF)\n",
    "false_positive_rate_RF, true_positive_rate_RF, _ = roc_curve(y_test, P_RF)\n",
    "\n",
    "auc_support_vector = roc_auc_score(y_test, P_SVM )\n",
    "false_positive_rate_svm, true_positive_rate_svm, _ = roc_curve(y_test, P_SVM )"
   ]
  },
  {
   "cell_type": "code",
   "execution_count": 37,
   "metadata": {},
   "outputs": [
    {
     "data": {
      "text/plain": [
       "<matplotlib.legend.Legend at 0x18a5f0645c8>"
      ]
     },
     "execution_count": 37,
     "metadata": {},
     "output_type": "execute_result"
    },
    {
     "data": {
      "image/png": "[encoded data removed]",
      "text/plain": [
       "<Figure size 1080x648 with 1 Axes>"
      ]
     },
     "metadata": {},
     "output_type": "display_data"
    }
   ],
   "source": [
    "plt.figure(figsize=(15, 9))\n",
    "plt.plot(false_positive_rate_LR, true_positive_rate_LR, label=f'AUC (Logistic Regression) = {auc_logistic_regression:.2f}')\n",
    "plt.plot(false_positive_rate_DT, true_positive_rate_DT, label=f'AUC (Decision Tree) = {auc_decission_tree:.2f}')\n",
    "plt.plot(false_positive_rate_RF, true_positive_rate_RF, label=f'AUC (Random Forests) = {auc_random_forest:.2f}')\n",
    "plt.plot(false_positive_rate_svm, true_positive_rate_svm, label=f'AUC (SVM) = {auc_support_vector:.2f}')\n",
    "plt.plot([0, 1], [0, 1], color='blue', linestyle='--', label='Baseline')\n",
    "plt.title('ROC Curve for MergeData', size=20)\n",
    "plt.xlabel('False Positive Rate', size=14)\n",
    "plt.ylabel('True Positive Rate', size=14)\n",
    "plt.legend()"
   ]
  },
  {
   "cell_type": "code",
   "execution_count": 38,
   "metadata": {},
   "outputs": [
    {
     "name": "stdout",
     "output_type": "stream",
     "text": [
      "Requirement already satisfied: tensorflow in c:\\users\\alaaa\\anaconda3\\lib\\site-packages (2.11.0)\n",
      "Requirement already satisfied: tensorflow-intel==2.11.0 in c:\\users\\alaaa\\anaconda3\\lib\\site-packages (from tensorflow) (2.11.0)\n",
      "Requirement already satisfied: google-pasta>=0.1.1 in c:\\users\\alaaa\\anaconda3\\lib\\site-packages (from tensorflow-intel==2.11.0->tensorflow) (0.2.0)\n",
      "Requirement already satisfied: termcolor>=1.1.0 in c:\\users\\alaaa\\anaconda3\\lib\\site-packages (from tensorflow-intel==2.11.0->tensorflow) (2.2.0)\n",
      "Requirement already satisfied: keras<2.12,>=2.11.0 in c:\\users\\alaaa\\anaconda3\\lib\\site-packages (from tensorflow-intel==2.11.0->tensorflow) (2.11.0)\n",
      "Requirement already satisfied: protobuf<3.20,>=3.9.2 in c:\\users\\alaaa\\anaconda3\\lib\\site-packages (from tensorflow-intel==2.11.0->tensorflow) (3.19.6)\n",
      "Requirement already satisfied: absl-py>=1.0.0 in c:\\users\\alaaa\\anaconda3\\lib\\site-packages (from tensorflow-intel==2.11.0->tensorflow) (1.4.0)\n",
      "Requirement already satisfied: typing-extensions>=3.6.6 in c:\\users\\alaaa\\anaconda3\\lib\\site-packages (from tensorflow-intel==2.11.0->tensorflow) (4.0.1)\n",
      "Requirement already satisfied: libclang>=13.0.0 in c:\\users\\alaaa\\anaconda3\\lib\\site-packages (from tensorflow-intel==2.11.0->tensorflow) (16.0.0)\n",
      "Requirement already satisfied: grpcio<2.0,>=1.24.3 in c:\\users\\alaaa\\anaconda3\\lib\\site-packages (from tensorflow-intel==2.11.0->tensorflow) (1.54.0)\n",
      "Requirement already satisfied: packaging in c:\\users\\alaaa\\anaconda3\\lib\\site-packages (from tensorflow-intel==2.11.0->tensorflow) (21.3)\n",
      "Requirement already satisfied: gast<=0.4.0,>=0.2.1 in c:\\users\\alaaa\\anaconda3\\lib\\site-packages (from tensorflow-intel==2.11.0->tensorflow) (0.4.0)\n",
      "Requirement already satisfied: wrapt>=1.11.0 in c:\\users\\alaaa\\anaconda3\\lib\\site-packages (from tensorflow-intel==2.11.0->tensorflow) (1.13.3)\n",
      "Requirement already satisfied: tensorboard<2.12,>=2.11 in c:\\users\\alaaa\\anaconda3\\lib\\site-packages (from tensorflow-intel==2.11.0->tensorflow) (2.11.2)\n",
      "Requirement already satisfied: opt-einsum>=2.3.2 in c:\\users\\alaaa\\anaconda3\\lib\\site-packages (from tensorflow-intel==2.11.0->tensorflow) (3.3.0)\n",
      "Requirement already satisfied: tensorflow-estimator<2.12,>=2.11.0 in c:\\users\\alaaa\\anaconda3\\lib\\site-packages (from tensorflow-intel==2.11.0->tensorflow) (2.11.0)\n",
      "Requirement already satisfied: h5py>=2.9.0 in c:\\users\\alaaa\\anaconda3\\lib\\site-packages (from tensorflow-intel==2.11.0->tensorflow) (3.6.0)\n",
      "Requirement already satisfied: setuptools in c:\\users\\alaaa\\anaconda3\\lib\\site-packages (from tensorflow-intel==2.11.0->tensorflow) (59.8.0)\n",
      "Requirement already satisfied: tensorflow-io-gcs-filesystem>=0.23.1 in c:\\users\\alaaa\\anaconda3\\lib\\site-packages (from tensorflow-intel==2.11.0->tensorflow) (0.31.0)\n",
      "Requirement already satisfied: numpy>=1.20 in c:\\users\\alaaa\\anaconda3\\lib\\site-packages (from tensorflow-intel==2.11.0->tensorflow) (1.21.6)\n",
      "Requirement already satisfied: astunparse>=1.6.0 in c:\\users\\alaaa\\anaconda3\\lib\\site-packages (from tensorflow-intel==2.11.0->tensorflow) (1.6.3)\n",
      "Requirement already satisfied: flatbuffers>=2.0 in c:\\users\\alaaa\\anaconda3\\lib\\site-packages (from tensorflow-intel==2.11.0->tensorflow) (23.3.3)\n",
      "Requirement already satisfied: six>=1.12.0 in c:\\users\\alaaa\\anaconda3\\lib\\site-packages (from tensorflow-intel==2.11.0->tensorflow) (1.16.0)\n",
      "Requirement already satisfied: wheel<1.0,>=0.23.0 in c:\\users\\alaaa\\anaconda3\\lib\\site-packages (from astunparse>=1.6.0->tensorflow-intel==2.11.0->tensorflow) (0.37.1)\n",
      "Requirement already satisfied: cached-property in c:\\users\\alaaa\\anaconda3\\lib\\site-packages (from h5py>=2.9.0->tensorflow-intel==2.11.0->tensorflow) (1.5.2)\n",
      "Requirement already satisfied: google-auth<3,>=1.6.3 in c:\\users\\alaaa\\anaconda3\\lib\\site-packages (from tensorboard<2.12,>=2.11->tensorflow-intel==2.11.0->tensorflow) (2.17.3)\n",
      "Requirement already satisfied: werkzeug>=1.0.1 in c:\\users\\alaaa\\anaconda3\\lib\\site-packages (from tensorboard<2.12,>=2.11->tensorflow-intel==2.11.0->tensorflow) (2.0.1)\n",
      "Requirement already satisfied: tensorboard-data-server<0.7.0,>=0.6.0 in c:\\users\\alaaa\\anaconda3\\lib\\site-packages (from tensorboard<2.12,>=2.11->tensorflow-intel==2.11.0->tensorflow) (0.6.1)\n",
      "Requirement already satisfied: google-auth-oauthlib<0.5,>=0.4.1 in c:\\users\\alaaa\\anaconda3\\lib\\site-packages (from tensorboard<2.12,>=2.11->tensorflow-intel==2.11.0->tensorflow) (0.4.6)\n",
      "Requirement already satisfied: tensorboard-plugin-wit>=1.6.0 in c:\\users\\alaaa\\anaconda3\\lib\\site-packages (from tensorboard<2.12,>=2.11->tensorflow-intel==2.11.0->tensorflow) (1.8.1)\n",
      "Requirement already satisfied: requests<3,>=2.21.0 in c:\\users\\alaaa\\anaconda3\\lib\\site-packages (from tensorboard<2.12,>=2.11->tensorflow-intel==2.11.0->tensorflow) (2.27.1)\n",
      "Requirement already satisfied: markdown>=2.6.8 in c:\\users\\alaaa\\anaconda3\\lib\\site-packages (from tensorboard<2.12,>=2.11->tensorflow-intel==2.11.0->tensorflow) (3.4.3)\n",
      "Requirement already satisfied: pyparsing!=3.0.5,>=2.0.2 in c:\\users\\alaaa\\anaconda3\\lib\\site-packages (from packaging->tensorflow-intel==2.11.0->tensorflow) (3.0.6)\n",
      "Requirement already satisfied: pyasn1-modules>=0.2.1 in c:\\users\\alaaa\\anaconda3\\lib\\site-packages (from google-auth<3,>=1.6.3->tensorboard<2.12,>=2.11->tensorflow-intel==2.11.0->tensorflow) (0.3.0)\n",
      "Requirement already satisfied: cachetools<6.0,>=2.0.0 in c:\\users\\alaaa\\anaconda3\\lib\\site-packages (from google-auth<3,>=1.6.3->tensorboard<2.12,>=2.11->tensorflow-intel==2.11.0->tensorflow) (5.3.0)\n",
      "Requirement already satisfied: rsa<5,>=3.1.4 in c:\\users\\alaaa\\anaconda3\\lib\\site-packages (from google-auth<3,>=1.6.3->tensorboard<2.12,>=2.11->tensorflow-intel==2.11.0->tensorflow) (4.9)\n",
      "Requirement already satisfied: requests-oauthlib>=0.7.0 in c:\\users\\alaaa\\anaconda3\\lib\\site-packages (from google-auth-oauthlib<0.5,>=0.4.1->tensorboard<2.12,>=2.11->tensorflow-intel==2.11.0->tensorflow) (1.3.1)\n",
      "Requirement already satisfied: importlib-metadata>=4.4 in c:\\users\\alaaa\\anaconda3\\lib\\site-packages (from markdown>=2.6.8->tensorboard<2.12,>=2.11->tensorflow-intel==2.11.0->tensorflow) (4.10.0)\n",
      "Requirement already satisfied: idna<4,>=2.5 in c:\\users\\alaaa\\anaconda3\\lib\\site-packages (from requests<3,>=2.21.0->tensorboard<2.12,>=2.11->tensorflow-intel==2.11.0->tensorflow) (3.1)\n",
      "Requirement already satisfied: certifi>=2017.4.17 in c:\\users\\alaaa\\anaconda3\\lib\\site-packages (from requests<3,>=2.21.0->tensorboard<2.12,>=2.11->tensorflow-intel==2.11.0->tensorflow) (2022.6.15.2)\n",
      "Requirement already satisfied: charset-normalizer~=2.0.0 in c:\\users\\alaaa\\anaconda3\\lib\\site-packages (from requests<3,>=2.21.0->tensorboard<2.12,>=2.11->tensorflow-intel==2.11.0->tensorflow) (2.0.10)\n",
      "Requirement already satisfied: urllib3<1.27,>=1.21.1 in c:\\users\\alaaa\\anaconda3\\lib\\site-packages (from requests<3,>=2.21.0->tensorboard<2.12,>=2.11->tensorflow-intel==2.11.0->tensorflow) (1.26.8)\n",
      "Requirement already satisfied: zipp>=0.5 in c:\\users\\alaaa\\anaconda3\\lib\\site-packages (from importlib-metadata>=4.4->markdown>=2.6.8->tensorboard<2.12,>=2.11->tensorflow-intel==2.11.0->tensorflow) (3.7.0)\n",
      "Requirement already satisfied: pyasn1<0.6.0,>=0.4.6 in c:\\users\\alaaa\\anaconda3\\lib\\site-packages (from pyasn1-modules>=0.2.1->google-auth<3,>=1.6.3->tensorboard<2.12,>=2.11->tensorflow-intel==2.11.0->tensorflow) (0.5.0)\n",
      "Requirement already satisfied: oauthlib>=3.0.0 in c:\\users\\alaaa\\anaconda3\\lib\\site-packages (from requests-oauthlib>=0.7.0->google-auth-oauthlib<0.5,>=0.4.1->tensorboard<2.12,>=2.11->tensorflow-intel==2.11.0->tensorflow) (3.2.2)\n",
      "Note: you may need to restart the kernel to use updated packages.\n"
     ]
    }
   ],
   "source": [
    "pip install tensorflow"
   ]
  },
  {
   "cell_type": "code",
   "execution_count": 39,
   "metadata": {},
   "outputs": [
    {
     "name": "stdout",
     "output_type": "stream",
     "text": [
      "Requirement already satisfied: keras_preprocessing in c:\\users\\alaaa\\anaconda3\\lib\\site-packages (1.1.2)Note: you may need to restart the kernel to use updated packages.\n",
      "\n",
      "Requirement already satisfied: numpy>=1.9.1 in c:\\users\\alaaa\\anaconda3\\lib\\site-packages (from keras_preprocessing) (1.21.6)\n",
      "Requirement already satisfied: six>=1.9.0 in c:\\users\\alaaa\\anaconda3\\lib\\site-packages (from keras_preprocessing) (1.16.0)\n"
     ]
    }
   ],
   "source": [
    "pip install keras_preprocessing"
   ]
  },
  {
   "cell_type": "code",
   "execution_count": 40,
   "metadata": {},
   "outputs": [
    {
     "name": "stdout",
     "output_type": "stream",
     "text": [
      "Requirement already satisfied: numpy in c:\\users\\alaaa\\anaconda3\\lib\\site-packages (1.21.6)\n",
      "Note: you may need to restart the kernel to use updated packages.\n"
     ]
    },
    {
     "name": "stderr",
     "output_type": "stream",
     "text": [
      "WARNING: Retrying (Retry(total=4, connect=None, read=None, redirect=None, status=None)) after connection broken by 'NewConnectionError('<pip._vendor.urllib3.connection.HTTPSConnection object at 0x0000012F7AA67148>: Failed to establish a new connection: [Errno 11001] getaddrinfo failed')': /simple/numpy/\n",
      "WARNING: Retrying (Retry(total=3, connect=None, read=None, redirect=None, status=None)) after connection broken by 'NewConnectionError('<pip._vendor.urllib3.connection.HTTPSConnection object at 0x0000012F7AA73208>: Failed to establish a new connection: [Errno 11001] getaddrinfo failed')': /simple/numpy/\n",
      "WARNING: Retrying (Retry(total=2, connect=None, read=None, redirect=None, status=None)) after connection broken by 'NewConnectionError('<pip._vendor.urllib3.connection.HTTPSConnection object at 0x0000012F7AA73848>: Failed to establish a new connection: [Errno 11001] getaddrinfo failed')': /simple/numpy/\n",
      "WARNING: Retrying (Retry(total=1, connect=None, read=None, redirect=None, status=None)) after connection broken by 'NewConnectionError('<pip._vendor.urllib3.connection.HTTPSConnection object at 0x0000012F7AA73FC8>: Failed to establish a new connection: [Errno 11001] getaddrinfo failed')': /simple/numpy/\n",
      "WARNING: Retrying (Retry(total=0, connect=None, read=None, redirect=None, status=None)) after connection broken by 'NewConnectionError('<pip._vendor.urllib3.connection.HTTPSConnection object at 0x0000012F7AA78848>: Failed to establish a new connection: [Errno 11001] getaddrinfo failed')': /simple/numpy/\n"
     ]
    }
   ],
   "source": [
    "\n",
    "pip install --upgrade numpy"
   ]
  },
  {
   "cell_type": "markdown",
   "metadata": {},
   "source": [
    "#### Using LSTM Apply Neural Network"
   ]
  },
  {
   "cell_type": "code",
   "execution_count": 69,
   "metadata": {},
   "outputs": [],
   "source": [
    "import tensorflow as tf\n",
    "from sklearn.model_selection import train_test_split\n",
    "from keras_preprocessing import sequence\n",
    "from keras.preprocessing.text import Tokenizer\n",
    "from tensorflow.keras.preprocessing.sequence import pad_sequences\n",
    "from tensorboard.plugins.hparams import api as hp\n",
    "from sklearn import metrics\n",
    "from sklearn.metrics import accuracy_score, confusion_matrix, classification_report\n",
    "#%load_ext tensorboard\n",
    "from matplotlib import pyplot as plt\n",
    "import datetime, os\n",
    "# use GBU\n",
    "os.environ[\"CUDA_VISIBLE_DEVICES\"]=\"7\"\n"
   ]
  },
  {
   "cell_type": "markdown",
   "metadata": {},
   "source": [
    "Load Glove"
   ]
  },
  {
   "cell_type": "code",
   "execution_count": null,
   "metadata": {},
   "outputs": [],
   "source": [
    "\n"
   ]
  },
  {
   "cell_type": "code",
   "execution_count": 70,
   "metadata": {},
   "outputs": [],
   "source": [
    "def load_word_embeddings(file_path):\n",
    "    emb_index = {}\n",
    "    with open(file_path, encoding='utf-8') as p:\n",
    "        for l in p:\n",
    "            v = l.split()\n",
    "            word = v[0]\n",
    "            c = np.asarray(v[1:], dtype='float32')\n",
    "            emb_index[word] = c\n",
    "    return emb_index\n",
    "\n"
   ]
  },
  {
   "cell_type": "code",
   "execution_count": 71,
   "metadata": {},
   "outputs": [
    {
     "name": "stdout",
     "output_type": "stream",
     "text": [
      "Loading word embedding GloVe from C:/Users/alaaa/Downloads/glove.6B.100d.txt...\n",
      "Found 400001 word vectors.\n"
     ]
    }
   ],
   "source": [
    "glove_file_path = 'C:/Users/alaaa/Downloads/glove.6B.100d.txt'\n",
    "print(f\"Loading word embedding GloVe from {glove_file_path}...\")\n",
    "emb_index = load_word_embeddings(glove_file_path)\n",
    "print(f'Found {len(emb_index)} word vectors.')\n"
   ]
  },
  {
   "cell_type": "code",
   "execution_count": 72,
   "metadata": {},
   "outputs": [],
   "source": [
    "oov_tok = \"<OOV>\"\n",
    "# Define the maximum vocabulary size\n",
    "max_vocab_size = 10000\n",
    "\n",
    "# Define the maximum sequence length\n",
    "max_sequence_length = 300\n",
    "\n",
    "# Specify the type of embedding layer to use\n",
    "# Options are 'pretrained' or 'learned'\n",
    "embedding_type = 'pretrained'\n",
    "\n",
    "# Specify the number of training epochs\n",
    "num_epochs = 10\n",
    "\n",
    "# Specify the name of the file to save the hyperparameters to\n",
    "hyperparams_file = \"\"\n",
    "\n",
    "# Define the possible number of LSTM units to use\n",
    "possible_num_units = hp.HParam('num_units', hp.Discrete([64, 128]))\n",
    "\n",
    "# Define the possible dropout rates to use\n",
    "possible_dropout_rates =  hp.HParam('dropout', hp.Discrete([0.2, 0.3]))\n",
    "\n",
    "# Define the possible learning rates to use\n",
    "possible_learning_rates = hp.HParam('learning_rate', hp.Discrete([0.001]))\n",
    "\n",
    "# Define the possible optimizers to use\n",
    "possible_optimizers = hp.HParam('optimizer', hp.Discrete(['adam', 'rmsprop']))\n",
    "\n",
    "# Define the possible activation functions to use\n",
    "possible_activation_functions = hp.HParam('activation', hp.Discrete(['relu']))\n",
    "\n",
    "# Specify the directory to save TensorBoard logs to\n",
    "log_dir = './logs'\n",
    "\n",
    "# Specify the directory to save hyperparameters for TensorBoard visualization\n",
    "hyperparam_dir = './logs/hyperparams'\n"
   ]
  },
  {
   "cell_type": "code",
   "execution_count": 73,
   "metadata": {},
   "outputs": [],
   "source": [
    "M_A = 'accuracy'\n",
    "M_P = 'precision'\n",
    "M_R = 'recall'\n",
    "M_L = 'loss'\n",
    "\n",
    "hyParams = [possible_optimizers, possible_num_units, possible_dropout_rates, possible_learning_rates] \n",
    "with tf.summary.create_file_writer(hyperparam_dir).as_default():\n",
    "    hp.hparams_config(\n",
    "        hparams=hyParams,\n",
    "        metrics=[hp.Metric(M_A, display_name='Accuracy'),                 \n",
    "                 hp.Metric(M_L, display_name='Loss'),\n",
    "                 hp.Metric(M_P, display_name='Precision'),\n",
    "                 hp.Metric(M_R, display_name='Recall')],\n",
    "      )\n"
   ]
  },
  {
   "cell_type": "code",
   "execution_count": 74,
   "metadata": {},
   "outputs": [],
   "source": [
    "def getting_optimizing_algorithm(algorithm,learn_R):\n",
    "    optimizer_classes = {\n",
    "        'rmsprop': tf.keras.optimizers.RMSprop,\n",
    "        'adam': tf.keras.optimizers.Adam\n",
    "    }\n",
    "    if algorithm not in optimizer_classes:\n",
    "        raise ValueError(f\"Invalid optimization algorithm: {algorithm}\")\n",
    "    optimizer_class = optimizer_classes[algorithm]\n",
    "    optimum_algorithm = optimizer_class(learn_R)\n",
    "    return optimum_algorithm"
   ]
  },
  {
   "cell_type": "markdown",
   "metadata": {},
   "source": [
    "### Implementing LSTM Model\n",
    "Create some functions to implement the following steps:\n",
    "1. Splitting the Data into Training and testing parts.\n",
    "2. Vertorization & Word Embedding\n",
    "3. Create the LSTM Model\n",
    "4. Fit the Model\n",
    "5. Evaluating & plot the Accuracy"
   ]
  },
  {
   "cell_type": "code",
   "execution_count": 75,
   "metadata": {},
   "outputs": [],
   "source": [
    "def Convert_TextTo_sequance(X_Traindata, X_TestData):\n",
    "\n",
    "    #print('Tokenizing: split the text into Tokens (words)')\n",
    "    tokenizer = Tokenizer(num_words = max_vocab_size, oov_token=oov_tok)\n",
    "    tokenizer.fit_on_texts(X_Traindata)\n",
    "\n",
    "    word2idx = tokenizer.word_index\n",
    "    Vocabulary_size = len(word2idx) +1\n",
    "    #print ('Word_index size (vocabulary_size) is', Vocabulary_size)\n",
    "\n",
    "    # Convert Token to sequance of word index\n",
    "    #print('Convert Tokens to sequance  of word index')\n",
    "    training_sequences = tokenizer.texts_to_sequences(X_Traindata)\n",
    "\n",
    "    testing_sequences = tokenizer.texts_to_sequences(X_TestData)\n",
    "\n",
    "    # Pad_sequence : we have to make all text of fixed length = Maxlen\n",
    "    #print('Padding & truncating')\n",
    "    X_train_sequance = pad_sequences(training_sequences, maxlen=max_sequence_length, padding='post', truncating='post')\n",
    "\n",
    "    X_test_sequance = pad_sequences(testing_sequences, maxlen=max_sequence_length, padding='post', truncating='post')\n",
    "    \n",
    "    return word2idx, Vocabulary_size, X_train_sequance, X_test_sequance"
   ]
  },
  {
   "cell_type": "code",
   "execution_count": 76,
   "metadata": {},
   "outputs": [],
   "source": [
    "def embedding_matrix_creation(vocabulary, word_index, embedding_dim=100):\n",
    "    num_words = min(vocabulary, len(word_index) + 1)\n",
    "    embedding_matrix = np.zeros((num_words, embedding_dim))\n",
    "    for word, i in word_index.items():\n",
    "        if i >= vocabulary:\n",
    "            break\n",
    "        try:\n",
    "            embedding_vector =  emb_index.get(word)\n",
    "            embedding_matrix[i] = embedding_vector\n",
    "        except KeyError:\n",
    "            continue\n",
    "    return embedding_matrix"
   ]
  },
  {
   "cell_type": "code",
   "execution_count": 77,
   "metadata": {},
   "outputs": [],
   "source": [
    "def preprocess_text_data(data, data_name, embedding_size=100):\n",
    "    # Split the data into training and testing parts\n",
    "    print(f\"1. {data_name} splitting into training and testing parts\\n{'-'*100}\")\n",
    "    X_train, X_test, y_train, y_test = train_test_split(data['text'], data['label'], train_size=0.8, random_state=42)\n",
    "    \n",
    "   \n",
    "    \n",
    "    word2idx, Vocabulary_size, X_train_sequance, X_test_sequance = Convert_TextTo_sequance(X_train, X_test)\n",
    "    #print('create a weight matrix for words in training docs')\n",
    "    embedding_matrix = embedding_matrix_creation(Vocabulary_size,word2idx,embedding_size)\n",
    "    Resultlist = {'Vocabulary_size':Vocabulary_size, 'embedding_size': embedding_size }\n",
    "    return Resultlist, embedding_matrix, X_train_sequance, X_test_sequance, y_train, y_test"
   ]
  },
  {
   "cell_type": "code",
   "execution_count": null,
   "metadata": {},
   "outputs": [],
   "source": []
  },
  {
   "cell_type": "markdown",
   "metadata": {},
   "source": [
    "### Buliding Machine learning model using LSTM\n",
    "Build a sequential model with the following layers:\n",
    "\n",
    "Embedding layer: This input layer converts each word in the text into a fixed-length dense vector of size embedding_dim. It requires that the input data is integer (each word represented as a unique index) The input argument equal to the vocabulary size, and the output dimension is the size of the output vectors for each word will be equal to embedding_dim we will specify. The third argument is input_length which specify the length of input sequences, weights: the embedding matrix which we create it from GloVe (PreTrained word embedding)\n",
    "layer2: A bidirectional LSTM layer of number of units detected from Hyperparameter.\n",
    "Dense layer1: Hidden layer of number of units with activation value detected from Hyperparameter..\n",
    "Dense layer2 (output layer): contains 1 unit (0 or 1) for binary classifier and we will used sigmoid as activation function."
   ]
  },
  {
   "cell_type": "code",
   "execution_count": 78,
   "metadata": {},
   "outputs": [],
   "source": [
    "def Build_LSTMmodel(Vocabulary_size, embedding_size, embedding_matrix, hyperParams):\n",
    "    \n",
    "    model_lstm = tf.keras.Sequential()\n",
    "    \n",
    "    # Add an embedding layer\n",
    "    if embedding_matrix is not None:\n",
    "        # Use pre-trained embeddings\n",
    "        model_lstm.add(tf.keras.layers.Embedding(input_dim=Vocabulary_size, \n",
    "                                                 output_dim=embedding_size, \n",
    "                                                 weights=[embedding_matrix], \n",
    "                                                 input_length=max_sequence_length, \n",
    "                                                 trainable=False))\n",
    "    else:\n",
    "        # Train embeddings from scratch\n",
    "        model_lstm.add(tf.keras.layers.Embedding(input_dim=Vocabulary_size, \n",
    "                                                 output_dim=embedding_size, \n",
    "                                                 input_length=max_sequence_length, \n",
    "                                                 trainable=True))\n",
    "    \n",
    "    # Add an LSTM layer with dropout regularization\n",
    "    model_lstm.add(tf.keras.layers.LSTM(units=embedding_size, \n",
    "                                        dropout=hyperParams[possible_dropout_rates]))\n",
    "    \n",
    "    # Add a dense layer with specified activation function and number of units\n",
    "    model_lstm.add(tf.keras.layers.Dense(units=hyperParams[possible_num_units], \n",
    "                                      activation=hyperParams[possible_activation_functions]))\n",
    "    \n",
    "    # Add a dropout layer for regularization\n",
    "    model_lstm.add(tf.keras.layers.Dropout(hyperParams[possible_dropout_rates]))\n",
    "    \n",
    "    # Add an output layer with sigmoid activation for binary classification\n",
    "    model_lstm.add(tf.keras.layers.Dense(units=1, activation='sigmoid'))\n",
    "    \n",
    "    opt_algo = getting_optimizing_algorithm(hyperParams[possible_optimizers], hyperParams[possible_learning_rates])\n",
    "    # Compile the model \n",
    "    #model_lstm.compile(optimizer=tf.keras.optimizers.Adam(lr = 0.001), loss='binary_crossentropy', metrics=['accuracy'])    \n",
    "    model_lstm.compile(optimizer=opt_algo, loss='binary_crossentropy', metrics=['accuracy', 'Precision', 'Recall'])\n",
    "\n",
    "    \n",
    "    # Print the model summary\n",
    "    model_lstm.summary()\n",
    "    \n",
    "    return model_lstm\n"
   ]
  },
  {
   "cell_type": "markdown",
   "metadata": {},
   "source": [
    "### Training the Model & Evaluating:\n",
    "Fitting: Train the model by dividing the data into \"batches\" of size batch_size, and repeatedly iterating over the entire set for a given number of epochs. some important argument in fitting:\n",
    "Validation_data: The model will iterate over the validation dataset and compute the validation loss and validation metrics(accuracy, prcision, recall) Early Stopping in Keras Keras supports the early stopping of training via a callback called EarlyStopping.\n",
    "Callbacks: is an object that can perform actions at various stages of training. We use EarlyStopping callback which will stop training when the chosen performance measure like 'loss_val' stops improving.\n",
    "We use also use TensorBoard callback after every batch of training to monitor model metrics.\n",
    "Evaluation: To check whether the model is the best fit for the problem statement, and to estimate the general accuracy of the model.\n",
    "https://keras.io/api/callbacks/"
   ]
  },
  {
   "cell_type": "code",
   "execution_count": 79,
   "metadata": {},
   "outputs": [
    {
     "name": "stdout",
     "output_type": "stream",
     "text": [
      "The tensorboard extension is already loaded. To reload it, use:\n",
      "  %reload_ext tensorboard\n"
     ]
    }
   ],
   "source": [
    "%load_ext tensorboard"
   ]
  },
  {
   "cell_type": "code",
   "execution_count": 80,
   "metadata": {},
   "outputs": [],
   "source": [
    "from matplotlib import pyplot as plt\n",
    "from keras.callbacks import ModelCheckpoint, EarlyStopping, CSVLogger\n",
    "import tensorflow as tf\n",
    "import datetime, os\n",
    "from sklearn.metrics import accuracy_score, confusion_matrix, classification_report\n"
   ]
  },
  {
   "cell_type": "code",
   "execution_count": 81,
   "metadata": {},
   "outputs": [],
   "source": [
    "\n",
    "def Fitting(model_lstm, x_trainDB, y_trainDB, x_testDB, y_testDB, hyperParams):\n",
    "    #print('Start Fitting LSTM Model...\\n', '-'*100)\n",
    "    \n",
    "    log_dir = \"./logs\" + datetime.datetime.now().strftime(\"%Y%m%d-%H%M%S\")\n",
    "    callb_list = [\n",
    "        tf.keras.callbacks.EarlyStopping(monitor='val_loss', patience=7, mode='min', verbose=1),            \n",
    "        tf.keras.callbacks.TensorBoard(log_dir=log_dir, histogram_freq=1),\n",
    "        tf.keras.callbacks.CSVLogger('LSTM_logs.csv', separator=\",\", append=False)\n",
    "    ]\n",
    "    \n",
    "    if Embeddinglayer == 'Pre-Trained':\n",
    "        batch_size = hyperParams[possible_num_units]\n",
    "    else:\n",
    "        batch_size = 32\n",
    "       \n",
    "        \n",
    "    #model_lstm.compile(loss='binary_crossentropy', optimizer='adam', metrics=['accuracy'])\n",
    "    model_lstm.compile(loss='binary_crossentropy', optimizer='adam',  metrics=['accuracy', 'Precision', 'Recall'])\n",
    "    history = model_lstm.fit(x_trainDB, y_trainDB, batch_size=batch_size, epochs=num_epochs, \n",
    "                             validation_data=(x_testDB, y_testDB), callbacks=callb_list)\n",
    "        \n",
    "    return history, model_lstm\n"
   ]
  },
  {
   "cell_type": "code",
   "execution_count": null,
   "metadata": {},
   "outputs": [],
   "source": [
    "\n"
   ]
  },
  {
   "cell_type": "code",
   "execution_count": 82,
   "metadata": {},
   "outputs": [],
   "source": [
    "def plotModel(data1, data2, xlabel, ylabel, Title):\n",
    "    fig, ax = plt.subplots(figsize=(8,5))\n",
    "    \n",
    "    ax.plot(data1)\n",
    "    ax.plot(data2)\n",
    "    \n",
    "    ax.set_title(Title)\n",
    "    ax.set_xlabel(xlabel)\n",
    "    ax.set_ylabel(ylabel)\n",
    "    \n",
    "    ax.legend(['train', 'val'], loc='upper left')\n",
    "    \n",
    "    plt.show()\n",
    "\n",
    "\n",
    "\n"
   ]
  },
  {
   "cell_type": "code",
   "execution_count": 83,
   "metadata": {},
   "outputs": [],
   "source": [
    "\n",
    "from tensorflow.keras.models import Sequential\n",
    "from tensorflow.keras.layers import Embedding, LSTM, Dense\n",
    "\n",
    "def Build_Train_Evaluate(Resultlist, embedding_matrix, X_train_sequance, y_train, X_test_sequance, y_test,  hparams):\n",
    "    # 1-Build the Model\n",
    "    model_lstm = Build_LSTMmodel(Resultlist['Vocabulary_size'], Resultlist['embedding_size'], embedding_matrix, hparams)\n",
    "\n",
    "    # 2- Train \n",
    "    history, model_lstm = Fitting(model_lstm, X_train_sequance, y_train, X_test_sequance, y_test, hparams)\n",
    "    \n",
    "    # 3- Evaluate    \n",
    "    print('Evaluating LSTM Model...\\n', '-'*100)\n",
    "    score = model_lstm.evaluate(X_test_sequance, y_test)\n",
    "   \n",
    "    loss = score[0]\n",
    "    accuracy = score[1]\n",
    "    precision = score[2]\n",
    "    recall = score[3]\n",
    "  \n",
    "    return loss, accuracy, precision, recall, history, model_lstm\n",
    "    \n",
    "\n",
    " "
   ]
  },
  {
   "cell_type": "code",
   "execution_count": null,
   "metadata": {},
   "outputs": [],
   "source": [
    " \n"
   ]
  },
  {
   "cell_type": "code",
   "execution_count": 84,
   "metadata": {},
   "outputs": [],
   "source": [
    "# this function from handson and i didi some updats\n",
    "def run_LSTMModel_Hyperparameter(run_dir, hparams, Resultlist, embedding_matrix, X_train_sequance, y_train, X_test_sequance, y_test):\n",
    "    with tf.summary.create_file_writer(run_dir).as_default():\n",
    "        hp.hparams(hparams)  # record the values used in this trial        \n",
    "        loss, accuracy, prec, recall, history, LSTMModel = Build_Train_Evaluate(Resultlist, embedding_matrix, X_train_sequance, y_train, X_test_sequance, y_test, hparams)\n",
    "\n",
    "        print('='*100)\n",
    "        print('Test Accuracy:', accuracy, ' Test loss:',loss, ' Test Percision:',prec, ' Test recall:', recall )\n",
    "        print('='*100)\n",
    "        tf.summary.scalar(M_A, accuracy, step=1)\n",
    "        tf.summary.scalar(M_L, loss, step=1)        \n",
    "        tf.summary.scalar(M_P, prec, step=1)\n",
    "        tf.summary.scalar(M_R, recall, step=1)\n",
    "    return history, LSTMModel"
   ]
  },
  {
   "cell_type": "code",
   "execution_count": 85,
   "metadata": {},
   "outputs": [],
   "source": [
    "# Take the code from hands on LSTM and make some updates\n",
    "def ExecuteModel_withHyperparameter(data, dataName):\n",
    "    session_num = 0\n",
    "    Resultlist, embedding_matrix, X_train_sequance, X_test_sequance, y_train, y_test = preprocess_text_data(data, dataName, embedding_size=100)\n",
    "    for optimizer in possible_optimizers.domain.values:\n",
    "        for activation in  possible_activation_functions.domain.values:        \n",
    "            for num_units in possible_num_units.domain.values:            \n",
    "                for dropout_rate in possible_dropout_rates.domain.values:\n",
    "                    for learning_rate in possible_learning_rates.domain.values:\n",
    "                        hparams = {\n",
    "                            possible_num_units: num_units,\n",
    "                            possible_dropout_rates: dropout_rate,\n",
    "                            possible_optimizers: optimizer,\n",
    "                            possible_activation_functions: activation,\n",
    "                            possible_learning_rates: learning_rate                   \n",
    "                            }\n",
    "                        File_name = \"run-%d\" % session_num\n",
    "                        print('--- Starting trial: %s' % File_name)\n",
    "                        print({h.name: hparams[h] for h in hparams})  \n",
    "                        #run('logs/hparam_tuning/' + run_name, hparams)                       \n",
    "                        #history = run_LSTMModel(Hyperparam_dir + run_name, hparams, data, dataName)\n",
    "                        history, LSTMModel = run_LSTMModel_Hyperparameter(hyperparam_dir + hyperparams_file, hparams, Resultlist, embedding_matrix, X_train_sequance, y_train, X_test_sequance, y_test)\n",
    "                        plotModel(history.history['loss'], history.history['val_loss'], 'epoch', 'loss','LSTM_Model_loss:'+ dataName)\n",
    "                        plotModel(history.history['accuracy'], history.history['val_accuracy'], 'epoch', 'accuracy','LSTM_Model_Accuracy: '+ dataName)\n",
    "                        session_num += 1\n",
    "                        "
   ]
  },
  {
   "cell_type": "code",
   "execution_count": null,
   "metadata": {},
   "outputs": [],
   "source": []
  },
  {
   "cell_type": "code",
   "execution_count": 91,
   "metadata": {
    "scrolled": true
   },
   "outputs": [
    {
     "name": "stdout",
     "output_type": "stream",
     "text": [
      " Starting trial with epochs: 8  For Data: Mergedata\n",
      "----------------------------------------------------------------------------------------------------\n",
      "1. Mergedata splitting into training and testing parts\n",
      "----------------------------------------------------------------------------------------------------\n",
      " Starting trial with epochs: 8  For Data: Mergedata\n",
      "----------------------------------------------------------------------------------------------------\n",
      "{'num_units': 128, 'dropout': 0.2, 'optimizer': 'adam', 'activation': 'relu', 'learning_rate': 0.001}\n",
      "Model: \"sequential_3\"\n",
      "_________________________________________________________________\n",
      " Layer (type)                Output Shape              Param #   \n",
      "=================================================================\n",
      " embedding_3 (Embedding)     (None, 300, 100)          10818200  \n",
      "                                                                 \n",
      " lstm_3 (LSTM)               (None, 100)               80400     \n",
      "                                                                 \n",
      " dense_6 (Dense)             (None, 128)               12928     \n",
      "                                                                 \n",
      " dropout_3 (Dropout)         (None, 128)               0         \n",
      "                                                                 \n",
      " dense_7 (Dense)             (None, 1)                 129       \n",
      "                                                                 \n",
      "=================================================================\n",
      "Total params: 10,911,657\n",
      "Trainable params: 93,457\n",
      "Non-trainable params: 10,818,200\n",
      "_________________________________________________________________\n",
      "Epoch 1/8\n",
      "131/131 [==============================] - 100s 729ms/step - loss: nan - accuracy: 0.3963 - precision: 0.0000e+00 - recall: 0.0000e+00 - val_loss: nan - val_accuracy: 0.3940 - val_precision: 0.0000e+00 - val_recall: 0.0000e+00\n",
      "Epoch 2/8\n",
      "131/131 [==============================] - 90s 686ms/step - loss: nan - accuracy: 0.3963 - precision: 0.0000e+00 - recall: 0.0000e+00 - val_loss: nan - val_accuracy: 0.3940 - val_precision: 0.0000e+00 - val_recall: 0.0000e+00\n",
      "Epoch 3/8\n",
      "131/131 [==============================] - 88s 675ms/step - loss: nan - accuracy: 0.3963 - precision: 0.0000e+00 - recall: 0.0000e+00 - val_loss: nan - val_accuracy: 0.3940 - val_precision: 0.0000e+00 - val_recall: 0.0000e+00\n",
      "Epoch 4/8\n",
      "131/131 [==============================] - 89s 680ms/step - loss: nan - accuracy: 0.3963 - precision: 0.0000e+00 - recall: 0.0000e+00 - val_loss: nan - val_accuracy: 0.3940 - val_precision: 0.0000e+00 - val_recall: 0.0000e+00\n",
      "Epoch 5/8\n",
      "131/131 [==============================] - 89s 680ms/step - loss: nan - accuracy: 0.3963 - precision: 0.0000e+00 - recall: 0.0000e+00 - val_loss: nan - val_accuracy: 0.3940 - val_precision: 0.0000e+00 - val_recall: 0.0000e+00\n",
      "Epoch 6/8\n",
      "131/131 [==============================] - 89s 679ms/step - loss: nan - accuracy: 0.3963 - precision: 0.0000e+00 - recall: 0.0000e+00 - val_loss: nan - val_accuracy: 0.3940 - val_precision: 0.0000e+00 - val_recall: 0.0000e+00\n",
      "Epoch 7/8\n",
      "131/131 [==============================] - 89s 677ms/step - loss: nan - accuracy: 0.3963 - precision: 0.0000e+00 - recall: 0.0000e+00 - val_loss: nan - val_accuracy: 0.3940 - val_precision: 0.0000e+00 - val_recall: 0.0000e+00\n",
      "Epoch 7: early stopping\n",
      "Evaluating LSTM Model...\n",
      " ----------------------------------------------------------------------------------------------------\n",
      "131/131 [==============================] - 11s 86ms/step - loss: nan - accuracy: 0.3940 - precision: 0.0000e+00 - recall: 0.0000e+00\n",
      "====================================================================================================\n",
      "Test Accuracy: 0.393968403339386  Test loss: nan  Test Percision: 0.0  Test recall: 0.0\n",
      "====================================================================================================\n",
      "131/131 [==============================] - 11s 86ms/step - loss: nan - accuracy: 0.3940 - precision: 0.0000e+00 - recall: 0.0000e+00\n"
     ]
    },
    {
     "data": {
      "image/png": "[encoded data removed]",
      "text/plain": [
       "<Figure size 576x360 with 1 Axes>"
      ]
     },
     "metadata": {},
     "output_type": "display_data"
    },
    {
     "data": {
      "image/png": "[encoded data removed]",
      "text/plain": [
       "<Figure size 576x360 with 1 Axes>"
      ]
     },
     "metadata": {},
     "output_type": "display_data"
    },
    {
     "data": {
      "image/png": "[encoded data removed]",
      "text/plain": [
       "<Figure size 576x360 with 1 Axes>"
      ]
     },
     "metadata": {},
     "output_type": "display_data"
    },
    {
     "data": {
      "image/png": "[encoded data removed]",
      "text/plain": [
       "<Figure size 576x360 with 1 Axes>"
      ]
     },
     "metadata": {},
     "output_type": "display_data"
    }
   ],
   "source": [
    "\n",
    "num_epochs = 8 # decrese the number of epoch to get the result faster\n",
    "session_num = 2\n",
    "\n",
    "dataName = 'Mergedata'\n",
    "data = Merged_DF_Processed\n",
    "\n",
    "print(' Starting trial with epochs:', num_epochs, ' For Data:', dataName)\n",
    "print('-'*100)\n",
    "Embeddinglayer= 'Pre-Trained';  # GloVe\n",
    "\n",
    "Resultlist, embedding_matrix, X_train_sequance, X_test_sequance, y_train, y_test = preprocess_text_data(data, dataName, embedding_size=100)\n",
    "\n",
    "\n",
    "# I  tried\n",
    "hparams = { possible_num_units: 128, possible_dropout_rates: 0.2, possible_optimizers: 'adam', possible_activation_functions: 'relu', possible_learning_rates: 0.001}\n",
    "#hparams = { HP_NUM_UNITS: 64, HP_DROPOUT: 0.2, HP_OPTIMIZER: 'adam', HP_ACTIVATION: 'relu', HP_LEARNING_RATE: 0.001}\n",
    "#hparams = { HP_NUM_UNITS: 128, HP_DROPOUT: 0.3, HP_OPTIMIZER: 'adam', HP_ACTIVATION: 'relu', HP_LEARNING_RATE: 0.001}\n",
    "print(' Starting trial with epochs:', num_epochs, ' For Data:', dataName)\n",
    "print('-'*100)\n",
    "print({h.name: hparams[h] for h in hparams})     \n",
    "run_name = \"run-%d\" % 1                  \n",
    "history, LSTMModel = run_LSTMModel_Hyperparameter(hyperparam_dir + hyperparams_file, hparams,Resultlist , embedding_matrix, X_train_sequance, y_train, X_test_sequance, y_test)\n",
    "\n",
    "#y_predict = lr.predict(X_test)\n",
    "#probs_LSTMmodel = LSTMModel.predict_proba(X_test_sequance)[:, 1]\n",
    "#probs_LSTMmodel = LSTMModel.predict(X_test_sequance)[:, 1]\n",
    "\n",
    "score = LSTMModel.evaluate(X_test_sequance, y_test)\n",
    "loss = score[0]\n",
    "accuracy = score[1]\n",
    "percision = score[2]\n",
    "recall = score[3]   \n",
    "\n",
    "\n",
    "plotModel(history.history['accuracy'], history.history['val_accuracy'], 'epoch', 'accuracy','LSTM_Model_Accuracy: '+ dataName)\n",
    "plotModel(history.history['loss'], history.history['val_loss'], 'epoch', 'loss','LSTM_Model_loss:'+ dataName)\n",
    "plotModel(history.history['recall'], history.history['val_recall'], 'epoch', 'Recall','LSTM_Model_Recall: '+ dataName)\n",
    "plotModel(history.history['precision'], history.history['val_precision'], 'epoch', 'Percision','LSTM_Model_Percision: '+ dataName)"
   ]
  },
  {
   "cell_type": "code",
   "execution_count": 87,
   "metadata": {},
   "outputs": [
    {
     "name": "stdout",
     "output_type": "stream",
     "text": [
      "Model: \"sequential_1\"\n",
      "_________________________________________________________________\n",
      " Layer (type)                Output Shape              Param #   \n",
      "=================================================================\n",
      " embedding_1 (Embedding)     (None, 300, 100)          10818200  \n",
      "                                                                 \n",
      " lstm_1 (LSTM)               (None, 100)               80400     \n",
      "                                                                 \n",
      " dense_2 (Dense)             (None, 128)               12928     \n",
      "                                                                 \n",
      " dropout_1 (Dropout)         (None, 128)               0         \n",
      "                                                                 \n",
      " dense_3 (Dense)             (None, 1)                 129       \n",
      "                                                                 \n",
      "=================================================================\n",
      "Total params: 10,911,657\n",
      "Trainable params: 93,457\n",
      "Non-trainable params: 10,818,200\n",
      "_________________________________________________________________\n"
     ]
    }
   ],
   "source": [
    "LSTMModel.summary()"
   ]
  },
  {
   "cell_type": "code",
   "execution_count": null,
   "metadata": {},
   "outputs": [],
   "source": []
  },
  {
   "cell_type": "code",
   "execution_count": null,
   "metadata": {},
   "outputs": [],
   "source": []
  },
  {
   "cell_type": "code",
   "execution_count": null,
   "metadata": {},
   "outputs": [],
   "source": []
  },
  {
   "cell_type": "code",
   "execution_count": null,
   "metadata": {},
   "outputs": [],
   "source": []
  },
  {
   "cell_type": "code",
   "execution_count": null,
   "metadata": {},
   "outputs": [],
   "source": []
  }
 ],
 "metadata": {
  "kernelspec": {
   "display_name": "Python 3 (ipykernel)",
   "language": "python",
   "name": "python3"
  },
  "language_info": {
   "codemirror_mode": {
    "name": "ipython",
    "version": 3
   },
   "file_extension": ".py",
   "mimetype": "text/x-python",
   "name": "python",
   "nbconvert_exporter": "python",
   "pygments_lexer": "ipython3",
   "version": "3.9.12"
  },
  "vscode": {
   "interpreter": {
    "hash": "263930470851f494f0ed2879c35b57985588df20f9e529b86e97dd5eb9ddc466"
   }
  }
 },
 "nbformat": 4,
 "nbformat_minor": 2
}
